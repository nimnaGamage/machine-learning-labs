{
 "cells": [
  {
   "cell_type": "markdown",
   "id": "6023f030",
   "metadata": {},
   "source": [
    "# Assignment 02"
   ]
  },
  {
   "cell_type": "markdown",
   "id": "8bf11dba",
   "metadata": {},
   "source": [
    "Name : Nimna Alupotha Gamage (NIMNA A. G. T.) - Index No.: s14682 - Reg. No. : 2019s17241 - Faculty : Science"
   ]
  },
  {
   "cell_type": "markdown",
   "id": "cac4a771",
   "metadata": {},
   "source": [
    "# Importing Libraries"
   ]
  },
  {
   "cell_type": "code",
   "execution_count": 243,
   "id": "26d0356c",
   "metadata": {},
   "outputs": [],
   "source": [
    "import numpy as np\n",
    "import pandas as pd\n",
    "import matplotlib.pyplot as plt\n",
    "from numpy import nan\n",
    "\n",
    "#importing Tensorflow and Keras\n",
    "from tensorflow.keras import Sequential\n",
    "from tensorflow.keras.layers import LSTM, Dense\n",
    "\n",
    "#importing sklearn\n",
    "from sklearn.metrics import mean_squared_error\n",
    "from sklearn.preprocessing import MinMaxScaler"
   ]
  },
  {
   "cell_type": "markdown",
   "id": "c8c4dda5",
   "metadata": {},
   "source": [
    "# Importing Dataset"
   ]
  },
  {
   "cell_type": "code",
   "execution_count": 244,
   "id": "eee5abac",
   "metadata": {},
   "outputs": [],
   "source": [
    "dataset = pd.read_csv('household_power_consumption.txt', sep = ';',\n",
    "                  parse_dates = True,\n",
    "                  low_memory = False)"
   ]
  },
  {
   "cell_type": "code",
   "execution_count": 245,
   "id": "5a2018fe",
   "metadata": {},
   "outputs": [
    {
     "data": {
      "text/html": [
       "<div>\n",
       "<style scoped>\n",
       "    .dataframe tbody tr th:only-of-type {\n",
       "        vertical-align: middle;\n",
       "    }\n",
       "\n",
       "    .dataframe tbody tr th {\n",
       "        vertical-align: top;\n",
       "    }\n",
       "\n",
       "    .dataframe thead th {\n",
       "        text-align: right;\n",
       "    }\n",
       "</style>\n",
       "<table border=\"1\" class=\"dataframe\">\n",
       "  <thead>\n",
       "    <tr style=\"text-align: right;\">\n",
       "      <th></th>\n",
       "      <th>Date</th>\n",
       "      <th>Time</th>\n",
       "      <th>Global_active_power</th>\n",
       "      <th>Global_reactive_power</th>\n",
       "      <th>Voltage</th>\n",
       "      <th>Global_intensity</th>\n",
       "      <th>Sub_metering_1</th>\n",
       "      <th>Sub_metering_2</th>\n",
       "      <th>Sub_metering_3</th>\n",
       "    </tr>\n",
       "  </thead>\n",
       "  <tbody>\n",
       "    <tr>\n",
       "      <th>0</th>\n",
       "      <td>16/12/2006</td>\n",
       "      <td>17:24:00</td>\n",
       "      <td>4.216</td>\n",
       "      <td>0.418</td>\n",
       "      <td>234.840</td>\n",
       "      <td>18.400</td>\n",
       "      <td>0.000</td>\n",
       "      <td>1.000</td>\n",
       "      <td>17.0</td>\n",
       "    </tr>\n",
       "    <tr>\n",
       "      <th>1</th>\n",
       "      <td>16/12/2006</td>\n",
       "      <td>17:25:00</td>\n",
       "      <td>5.360</td>\n",
       "      <td>0.436</td>\n",
       "      <td>233.630</td>\n",
       "      <td>23.000</td>\n",
       "      <td>0.000</td>\n",
       "      <td>1.000</td>\n",
       "      <td>16.0</td>\n",
       "    </tr>\n",
       "    <tr>\n",
       "      <th>2</th>\n",
       "      <td>16/12/2006</td>\n",
       "      <td>17:26:00</td>\n",
       "      <td>5.374</td>\n",
       "      <td>0.498</td>\n",
       "      <td>233.290</td>\n",
       "      <td>23.000</td>\n",
       "      <td>0.000</td>\n",
       "      <td>2.000</td>\n",
       "      <td>17.0</td>\n",
       "    </tr>\n",
       "    <tr>\n",
       "      <th>3</th>\n",
       "      <td>16/12/2006</td>\n",
       "      <td>17:27:00</td>\n",
       "      <td>5.388</td>\n",
       "      <td>0.502</td>\n",
       "      <td>233.740</td>\n",
       "      <td>23.000</td>\n",
       "      <td>0.000</td>\n",
       "      <td>1.000</td>\n",
       "      <td>17.0</td>\n",
       "    </tr>\n",
       "    <tr>\n",
       "      <th>4</th>\n",
       "      <td>16/12/2006</td>\n",
       "      <td>17:28:00</td>\n",
       "      <td>3.666</td>\n",
       "      <td>0.528</td>\n",
       "      <td>235.680</td>\n",
       "      <td>15.800</td>\n",
       "      <td>0.000</td>\n",
       "      <td>1.000</td>\n",
       "      <td>17.0</td>\n",
       "    </tr>\n",
       "  </tbody>\n",
       "</table>\n",
       "</div>"
      ],
      "text/plain": [
       "         Date      Time Global_active_power Global_reactive_power  Voltage  \\\n",
       "0  16/12/2006  17:24:00               4.216                 0.418  234.840   \n",
       "1  16/12/2006  17:25:00               5.360                 0.436  233.630   \n",
       "2  16/12/2006  17:26:00               5.374                 0.498  233.290   \n",
       "3  16/12/2006  17:27:00               5.388                 0.502  233.740   \n",
       "4  16/12/2006  17:28:00               3.666                 0.528  235.680   \n",
       "\n",
       "  Global_intensity Sub_metering_1 Sub_metering_2  Sub_metering_3  \n",
       "0           18.400          0.000          1.000            17.0  \n",
       "1           23.000          0.000          1.000            16.0  \n",
       "2           23.000          0.000          2.000            17.0  \n",
       "3           23.000          0.000          1.000            17.0  \n",
       "4           15.800          0.000          1.000            17.0  "
      ]
     },
     "execution_count": 245,
     "metadata": {},
     "output_type": "execute_result"
    }
   ],
   "source": [
    "dataset.head()"
   ]
  },
  {
   "cell_type": "code",
   "execution_count": 246,
   "id": "ce8f4a3f",
   "metadata": {},
   "outputs": [
    {
     "data": {
      "text/html": [
       "<div>\n",
       "<style scoped>\n",
       "    .dataframe tbody tr th:only-of-type {\n",
       "        vertical-align: middle;\n",
       "    }\n",
       "\n",
       "    .dataframe tbody tr th {\n",
       "        vertical-align: top;\n",
       "    }\n",
       "\n",
       "    .dataframe thead th {\n",
       "        text-align: right;\n",
       "    }\n",
       "</style>\n",
       "<table border=\"1\" class=\"dataframe\">\n",
       "  <thead>\n",
       "    <tr style=\"text-align: right;\">\n",
       "      <th></th>\n",
       "      <th>Date</th>\n",
       "      <th>Time</th>\n",
       "      <th>Global_active_power</th>\n",
       "      <th>Global_reactive_power</th>\n",
       "      <th>Voltage</th>\n",
       "      <th>Global_intensity</th>\n",
       "      <th>Sub_metering_1</th>\n",
       "      <th>Sub_metering_2</th>\n",
       "      <th>Sub_metering_3</th>\n",
       "    </tr>\n",
       "  </thead>\n",
       "  <tbody>\n",
       "    <tr>\n",
       "      <th>2075254</th>\n",
       "      <td>26/11/2010</td>\n",
       "      <td>20:58:00</td>\n",
       "      <td>0.946</td>\n",
       "      <td>0.000</td>\n",
       "      <td>240.430</td>\n",
       "      <td>4.000</td>\n",
       "      <td>0.000</td>\n",
       "      <td>0.000</td>\n",
       "      <td>0.0</td>\n",
       "    </tr>\n",
       "    <tr>\n",
       "      <th>2075255</th>\n",
       "      <td>26/11/2010</td>\n",
       "      <td>20:59:00</td>\n",
       "      <td>0.944</td>\n",
       "      <td>0.000</td>\n",
       "      <td>240.000</td>\n",
       "      <td>4.000</td>\n",
       "      <td>0.000</td>\n",
       "      <td>0.000</td>\n",
       "      <td>0.0</td>\n",
       "    </tr>\n",
       "    <tr>\n",
       "      <th>2075256</th>\n",
       "      <td>26/11/2010</td>\n",
       "      <td>21:00:00</td>\n",
       "      <td>0.938</td>\n",
       "      <td>0.000</td>\n",
       "      <td>239.820</td>\n",
       "      <td>3.800</td>\n",
       "      <td>0.000</td>\n",
       "      <td>0.000</td>\n",
       "      <td>0.0</td>\n",
       "    </tr>\n",
       "    <tr>\n",
       "      <th>2075257</th>\n",
       "      <td>26/11/2010</td>\n",
       "      <td>21:01:00</td>\n",
       "      <td>0.934</td>\n",
       "      <td>0.000</td>\n",
       "      <td>239.700</td>\n",
       "      <td>3.800</td>\n",
       "      <td>0.000</td>\n",
       "      <td>0.000</td>\n",
       "      <td>0.0</td>\n",
       "    </tr>\n",
       "    <tr>\n",
       "      <th>2075258</th>\n",
       "      <td>26/11/2010</td>\n",
       "      <td>21:02:00</td>\n",
       "      <td>0.932</td>\n",
       "      <td>0.000</td>\n",
       "      <td>239.550</td>\n",
       "      <td>3.800</td>\n",
       "      <td>0.000</td>\n",
       "      <td>0.000</td>\n",
       "      <td>0.0</td>\n",
       "    </tr>\n",
       "  </tbody>\n",
       "</table>\n",
       "</div>"
      ],
      "text/plain": [
       "               Date      Time Global_active_power Global_reactive_power  \\\n",
       "2075254  26/11/2010  20:58:00               0.946                 0.000   \n",
       "2075255  26/11/2010  20:59:00               0.944                 0.000   \n",
       "2075256  26/11/2010  21:00:00               0.938                 0.000   \n",
       "2075257  26/11/2010  21:01:00               0.934                 0.000   \n",
       "2075258  26/11/2010  21:02:00               0.932                 0.000   \n",
       "\n",
       "         Voltage Global_intensity Sub_metering_1 Sub_metering_2  \\\n",
       "2075254  240.430            4.000          0.000          0.000   \n",
       "2075255  240.000            4.000          0.000          0.000   \n",
       "2075256  239.820            3.800          0.000          0.000   \n",
       "2075257  239.700            3.800          0.000          0.000   \n",
       "2075258  239.550            3.800          0.000          0.000   \n",
       "\n",
       "         Sub_metering_3  \n",
       "2075254             0.0  \n",
       "2075255             0.0  \n",
       "2075256             0.0  \n",
       "2075257             0.0  \n",
       "2075258             0.0  "
      ]
     },
     "execution_count": 246,
     "metadata": {},
     "output_type": "execute_result"
    }
   ],
   "source": [
    "dataset.tail()"
   ]
  },
  {
   "cell_type": "code",
   "execution_count": 247,
   "id": "708564f8",
   "metadata": {},
   "outputs": [
    {
     "data": {
      "text/html": [
       "<div>\n",
       "<style scoped>\n",
       "    .dataframe tbody tr th:only-of-type {\n",
       "        vertical-align: middle;\n",
       "    }\n",
       "\n",
       "    .dataframe tbody tr th {\n",
       "        vertical-align: top;\n",
       "    }\n",
       "\n",
       "    .dataframe thead th {\n",
       "        text-align: right;\n",
       "    }\n",
       "</style>\n",
       "<table border=\"1\" class=\"dataframe\">\n",
       "  <thead>\n",
       "    <tr style=\"text-align: right;\">\n",
       "      <th></th>\n",
       "      <th>Global_active_power</th>\n",
       "      <th>Global_reactive_power</th>\n",
       "      <th>Voltage</th>\n",
       "      <th>Global_intensity</th>\n",
       "      <th>Sub_metering_1</th>\n",
       "      <th>Sub_metering_2</th>\n",
       "      <th>Sub_metering_3</th>\n",
       "      <th>date_time</th>\n",
       "    </tr>\n",
       "  </thead>\n",
       "  <tbody>\n",
       "    <tr>\n",
       "      <th>0</th>\n",
       "      <td>4.216</td>\n",
       "      <td>0.418</td>\n",
       "      <td>234.840</td>\n",
       "      <td>18.400</td>\n",
       "      <td>0.000</td>\n",
       "      <td>1.000</td>\n",
       "      <td>17.0</td>\n",
       "      <td>16/12/2006 17:24:00</td>\n",
       "    </tr>\n",
       "    <tr>\n",
       "      <th>1</th>\n",
       "      <td>5.360</td>\n",
       "      <td>0.436</td>\n",
       "      <td>233.630</td>\n",
       "      <td>23.000</td>\n",
       "      <td>0.000</td>\n",
       "      <td>1.000</td>\n",
       "      <td>16.0</td>\n",
       "      <td>16/12/2006 17:25:00</td>\n",
       "    </tr>\n",
       "    <tr>\n",
       "      <th>2</th>\n",
       "      <td>5.374</td>\n",
       "      <td>0.498</td>\n",
       "      <td>233.290</td>\n",
       "      <td>23.000</td>\n",
       "      <td>0.000</td>\n",
       "      <td>2.000</td>\n",
       "      <td>17.0</td>\n",
       "      <td>16/12/2006 17:26:00</td>\n",
       "    </tr>\n",
       "    <tr>\n",
       "      <th>3</th>\n",
       "      <td>5.388</td>\n",
       "      <td>0.502</td>\n",
       "      <td>233.740</td>\n",
       "      <td>23.000</td>\n",
       "      <td>0.000</td>\n",
       "      <td>1.000</td>\n",
       "      <td>17.0</td>\n",
       "      <td>16/12/2006 17:27:00</td>\n",
       "    </tr>\n",
       "    <tr>\n",
       "      <th>4</th>\n",
       "      <td>3.666</td>\n",
       "      <td>0.528</td>\n",
       "      <td>235.680</td>\n",
       "      <td>15.800</td>\n",
       "      <td>0.000</td>\n",
       "      <td>1.000</td>\n",
       "      <td>17.0</td>\n",
       "      <td>16/12/2006 17:28:00</td>\n",
       "    </tr>\n",
       "  </tbody>\n",
       "</table>\n",
       "</div>"
      ],
      "text/plain": [
       "  Global_active_power Global_reactive_power  Voltage Global_intensity  \\\n",
       "0               4.216                 0.418  234.840           18.400   \n",
       "1               5.360                 0.436  233.630           23.000   \n",
       "2               5.374                 0.498  233.290           23.000   \n",
       "3               5.388                 0.502  233.740           23.000   \n",
       "4               3.666                 0.528  235.680           15.800   \n",
       "\n",
       "  Sub_metering_1 Sub_metering_2  Sub_metering_3            date_time  \n",
       "0          0.000          1.000            17.0  16/12/2006 17:24:00  \n",
       "1          0.000          1.000            16.0  16/12/2006 17:25:00  \n",
       "2          0.000          2.000            17.0  16/12/2006 17:26:00  \n",
       "3          0.000          1.000            17.0  16/12/2006 17:27:00  \n",
       "4          0.000          1.000            17.0  16/12/2006 17:28:00  "
      ]
     },
     "execution_count": 247,
     "metadata": {},
     "output_type": "execute_result"
    }
   ],
   "source": [
    "#represent both date and time columns in a single 'date_time' column\n",
    "\n",
    "dataset['date_time'] = dataset['Date'].str.cat(dataset['Time'], sep= ' ')\n",
    "dataset.drop(['Date', 'Time'], inplace= True, axis = 1)\n",
    "dataset.head()"
   ]
  },
  {
   "cell_type": "code",
   "execution_count": 248,
   "id": "78863baa",
   "metadata": {},
   "outputs": [
    {
     "data": {
      "text/html": [
       "<div>\n",
       "<style scoped>\n",
       "    .dataframe tbody tr th:only-of-type {\n",
       "        vertical-align: middle;\n",
       "    }\n",
       "\n",
       "    .dataframe tbody tr th {\n",
       "        vertical-align: top;\n",
       "    }\n",
       "\n",
       "    .dataframe thead th {\n",
       "        text-align: right;\n",
       "    }\n",
       "</style>\n",
       "<table border=\"1\" class=\"dataframe\">\n",
       "  <thead>\n",
       "    <tr style=\"text-align: right;\">\n",
       "      <th></th>\n",
       "      <th>Global_active_power</th>\n",
       "      <th>Global_reactive_power</th>\n",
       "      <th>Voltage</th>\n",
       "      <th>Global_intensity</th>\n",
       "      <th>Sub_metering_1</th>\n",
       "      <th>Sub_metering_2</th>\n",
       "      <th>Sub_metering_3</th>\n",
       "    </tr>\n",
       "    <tr>\n",
       "      <th>date_time</th>\n",
       "      <th></th>\n",
       "      <th></th>\n",
       "      <th></th>\n",
       "      <th></th>\n",
       "      <th></th>\n",
       "      <th></th>\n",
       "      <th></th>\n",
       "    </tr>\n",
       "  </thead>\n",
       "  <tbody>\n",
       "    <tr>\n",
       "      <th>16/12/2006 17:24:00</th>\n",
       "      <td>4.216</td>\n",
       "      <td>0.418</td>\n",
       "      <td>234.840</td>\n",
       "      <td>18.400</td>\n",
       "      <td>0.000</td>\n",
       "      <td>1.000</td>\n",
       "      <td>17.0</td>\n",
       "    </tr>\n",
       "    <tr>\n",
       "      <th>16/12/2006 17:25:00</th>\n",
       "      <td>5.360</td>\n",
       "      <td>0.436</td>\n",
       "      <td>233.630</td>\n",
       "      <td>23.000</td>\n",
       "      <td>0.000</td>\n",
       "      <td>1.000</td>\n",
       "      <td>16.0</td>\n",
       "    </tr>\n",
       "    <tr>\n",
       "      <th>16/12/2006 17:26:00</th>\n",
       "      <td>5.374</td>\n",
       "      <td>0.498</td>\n",
       "      <td>233.290</td>\n",
       "      <td>23.000</td>\n",
       "      <td>0.000</td>\n",
       "      <td>2.000</td>\n",
       "      <td>17.0</td>\n",
       "    </tr>\n",
       "    <tr>\n",
       "      <th>16/12/2006 17:27:00</th>\n",
       "      <td>5.388</td>\n",
       "      <td>0.502</td>\n",
       "      <td>233.740</td>\n",
       "      <td>23.000</td>\n",
       "      <td>0.000</td>\n",
       "      <td>1.000</td>\n",
       "      <td>17.0</td>\n",
       "    </tr>\n",
       "    <tr>\n",
       "      <th>16/12/2006 17:28:00</th>\n",
       "      <td>3.666</td>\n",
       "      <td>0.528</td>\n",
       "      <td>235.680</td>\n",
       "      <td>15.800</td>\n",
       "      <td>0.000</td>\n",
       "      <td>1.000</td>\n",
       "      <td>17.0</td>\n",
       "    </tr>\n",
       "  </tbody>\n",
       "</table>\n",
       "</div>"
      ],
      "text/plain": [
       "                    Global_active_power Global_reactive_power  Voltage  \\\n",
       "date_time                                                                \n",
       "16/12/2006 17:24:00               4.216                 0.418  234.840   \n",
       "16/12/2006 17:25:00               5.360                 0.436  233.630   \n",
       "16/12/2006 17:26:00               5.374                 0.498  233.290   \n",
       "16/12/2006 17:27:00               5.388                 0.502  233.740   \n",
       "16/12/2006 17:28:00               3.666                 0.528  235.680   \n",
       "\n",
       "                    Global_intensity Sub_metering_1 Sub_metering_2  \\\n",
       "date_time                                                            \n",
       "16/12/2006 17:24:00           18.400          0.000          1.000   \n",
       "16/12/2006 17:25:00           23.000          0.000          1.000   \n",
       "16/12/2006 17:26:00           23.000          0.000          2.000   \n",
       "16/12/2006 17:27:00           23.000          0.000          1.000   \n",
       "16/12/2006 17:28:00           15.800          0.000          1.000   \n",
       "\n",
       "                     Sub_metering_3  \n",
       "date_time                            \n",
       "16/12/2006 17:24:00            17.0  \n",
       "16/12/2006 17:25:00            16.0  \n",
       "16/12/2006 17:26:00            17.0  \n",
       "16/12/2006 17:27:00            17.0  \n",
       "16/12/2006 17:28:00            17.0  "
      ]
     },
     "execution_count": 248,
     "metadata": {},
     "output_type": "execute_result"
    }
   ],
   "source": [
    "dataset.set_index(['date_time'], inplace=True)\n",
    "dataset.head()"
   ]
  },
  {
   "cell_type": "markdown",
   "id": "11940dfb",
   "metadata": {},
   "source": [
    "# Data Cleaning"
   ]
  },
  {
   "cell_type": "markdown",
   "id": "345b44be",
   "metadata": {},
   "source": [
    "Cleaning the dataset is one of the pre-processing techniques."
   ]
  },
  {
   "cell_type": "code",
   "execution_count": 249,
   "id": "008b8902",
   "metadata": {},
   "outputs": [],
   "source": [
    "#mark unknown characters with NaN value(float)\n",
    "\n",
    "dataset.replace('?', nan, inplace=True)"
   ]
  },
  {
   "cell_type": "code",
   "execution_count": 250,
   "id": "d4a2eed9",
   "metadata": {},
   "outputs": [],
   "source": [
    "dataset = dataset.astype('float')\n",
    "\n",
    "#increase the efficiency of the data"
   ]
  },
  {
   "cell_type": "code",
   "execution_count": 251,
   "id": "d76d73d9",
   "metadata": {},
   "outputs": [
    {
     "name": "stdout",
     "output_type": "stream",
     "text": [
      "<class 'pandas.core.frame.DataFrame'>\n",
      "Index: 2075259 entries, 16/12/2006 17:24:00 to 26/11/2010 21:02:00\n",
      "Data columns (total 7 columns):\n",
      " #   Column                 Dtype  \n",
      "---  ------                 -----  \n",
      " 0   Global_active_power    float64\n",
      " 1   Global_reactive_power  float64\n",
      " 2   Voltage                float64\n",
      " 3   Global_intensity       float64\n",
      " 4   Sub_metering_1         float64\n",
      " 5   Sub_metering_2         float64\n",
      " 6   Sub_metering_3         float64\n",
      "dtypes: float64(7)\n",
      "memory usage: 126.7+ MB\n"
     ]
    }
   ],
   "source": [
    "dataset.info()"
   ]
  },
  {
   "cell_type": "code",
   "execution_count": 252,
   "id": "d999d61c",
   "metadata": {},
   "outputs": [
    {
     "data": {
      "text/plain": [
       "Global_active_power      25979\n",
       "Global_reactive_power    25979\n",
       "Voltage                  25979\n",
       "Global_intensity         25979\n",
       "Sub_metering_1           25979\n",
       "Sub_metering_2           25979\n",
       "Sub_metering_3           25979\n",
       "dtype: int64"
      ]
     },
     "execution_count": 252,
     "metadata": {},
     "output_type": "execute_result"
    }
   ],
   "source": [
    "#Check whether the unknown values are present in the dataset\n",
    "\n",
    "np.isnan(dataset).sum()"
   ]
  },
  {
   "cell_type": "code",
   "execution_count": 253,
   "id": "e4400f25",
   "metadata": {},
   "outputs": [],
   "source": [
    "#introduce a function to fill in the missing values\n",
    "\n",
    "def fill_missing_values(dataset):\n",
    "    one_day = 24*60\n",
    "    for row in range(dataset.shape[0]):\n",
    "        for col in range(dataset.shape[1]):\n",
    "            if np.isnan(dataset[row, col]):\n",
    "                dataset[row, col] = dataset[row-one_day, col]"
   ]
  },
  {
   "cell_type": "code",
   "execution_count": 254,
   "id": "d4e37235",
   "metadata": {},
   "outputs": [],
   "source": [
    "#calling the 'fill_missing_values' function\n",
    "\n",
    "fill_missing_values(dataset.values)"
   ]
  },
  {
   "cell_type": "code",
   "execution_count": 255,
   "id": "1eeedfa4",
   "metadata": {},
   "outputs": [
    {
     "data": {
      "text/plain": [
       "Global_active_power      0\n",
       "Global_reactive_power    0\n",
       "Voltage                  0\n",
       "Global_intensity         0\n",
       "Sub_metering_1           0\n",
       "Sub_metering_2           0\n",
       "Sub_metering_3           0\n",
       "dtype: int64"
      ]
     },
     "execution_count": 255,
     "metadata": {},
     "output_type": "execute_result"
    }
   ],
   "source": [
    "#check again for unknown values\n",
    "\n",
    "np.isnan(dataset).sum()"
   ]
  },
  {
   "cell_type": "code",
   "execution_count": 256,
   "id": "abcebf35",
   "metadata": {},
   "outputs": [
    {
     "name": "stdout",
     "output_type": "stream",
     "text": [
      "<class 'pandas.core.frame.DataFrame'>\n",
      "Index: 2075259 entries, 16/12/2006 17:24:00 to 26/11/2010 21:02:00\n",
      "Data columns (total 7 columns):\n",
      " #   Column                 Dtype  \n",
      "---  ------                 -----  \n",
      " 0   Global_active_power    float64\n",
      " 1   Global_reactive_power  float64\n",
      " 2   Voltage                float64\n",
      " 3   Global_intensity       float64\n",
      " 4   Sub_metering_1         float64\n",
      " 5   Sub_metering_2         float64\n",
      " 6   Sub_metering_3         float64\n",
      "dtypes: float64(7)\n",
      "memory usage: 126.7+ MB\n"
     ]
    }
   ],
   "source": [
    "dataset.info()"
   ]
  },
  {
   "cell_type": "code",
   "execution_count": 257,
   "id": "b3f0ba63",
   "metadata": {},
   "outputs": [
    {
     "data": {
      "text/plain": [
       "(2075259, 7)"
      ]
     },
     "execution_count": 257,
     "metadata": {},
     "output_type": "execute_result"
    }
   ],
   "source": [
    "dataset.shape"
   ]
  },
  {
   "cell_type": "markdown",
   "id": "963c23ce",
   "metadata": {},
   "source": [
    "There are 2075259 datapoints and 7 features in the dataset."
   ]
  },
  {
   "cell_type": "code",
   "execution_count": 258,
   "id": "b36a7c69",
   "metadata": {},
   "outputs": [
    {
     "data": {
      "text/html": [
       "<div>\n",
       "<style scoped>\n",
       "    .dataframe tbody tr th:only-of-type {\n",
       "        vertical-align: middle;\n",
       "    }\n",
       "\n",
       "    .dataframe tbody tr th {\n",
       "        vertical-align: top;\n",
       "    }\n",
       "\n",
       "    .dataframe thead th {\n",
       "        text-align: right;\n",
       "    }\n",
       "</style>\n",
       "<table border=\"1\" class=\"dataframe\">\n",
       "  <thead>\n",
       "    <tr style=\"text-align: right;\">\n",
       "      <th></th>\n",
       "      <th>Global_active_power</th>\n",
       "      <th>Global_reactive_power</th>\n",
       "      <th>Voltage</th>\n",
       "      <th>Global_intensity</th>\n",
       "      <th>Sub_metering_1</th>\n",
       "      <th>Sub_metering_2</th>\n",
       "      <th>Sub_metering_3</th>\n",
       "    </tr>\n",
       "    <tr>\n",
       "      <th>date_time</th>\n",
       "      <th></th>\n",
       "      <th></th>\n",
       "      <th></th>\n",
       "      <th></th>\n",
       "      <th></th>\n",
       "      <th></th>\n",
       "      <th></th>\n",
       "    </tr>\n",
       "  </thead>\n",
       "  <tbody>\n",
       "    <tr>\n",
       "      <th>16/12/2006 17:24:00</th>\n",
       "      <td>4.216</td>\n",
       "      <td>0.418</td>\n",
       "      <td>234.84</td>\n",
       "      <td>18.4</td>\n",
       "      <td>0.0</td>\n",
       "      <td>1.0</td>\n",
       "      <td>17.0</td>\n",
       "    </tr>\n",
       "    <tr>\n",
       "      <th>16/12/2006 17:25:00</th>\n",
       "      <td>5.360</td>\n",
       "      <td>0.436</td>\n",
       "      <td>233.63</td>\n",
       "      <td>23.0</td>\n",
       "      <td>0.0</td>\n",
       "      <td>1.0</td>\n",
       "      <td>16.0</td>\n",
       "    </tr>\n",
       "    <tr>\n",
       "      <th>16/12/2006 17:26:00</th>\n",
       "      <td>5.374</td>\n",
       "      <td>0.498</td>\n",
       "      <td>233.29</td>\n",
       "      <td>23.0</td>\n",
       "      <td>0.0</td>\n",
       "      <td>2.0</td>\n",
       "      <td>17.0</td>\n",
       "    </tr>\n",
       "    <tr>\n",
       "      <th>16/12/2006 17:27:00</th>\n",
       "      <td>5.388</td>\n",
       "      <td>0.502</td>\n",
       "      <td>233.74</td>\n",
       "      <td>23.0</td>\n",
       "      <td>0.0</td>\n",
       "      <td>1.0</td>\n",
       "      <td>17.0</td>\n",
       "    </tr>\n",
       "    <tr>\n",
       "      <th>16/12/2006 17:28:00</th>\n",
       "      <td>3.666</td>\n",
       "      <td>0.528</td>\n",
       "      <td>235.68</td>\n",
       "      <td>15.8</td>\n",
       "      <td>0.0</td>\n",
       "      <td>1.0</td>\n",
       "      <td>17.0</td>\n",
       "    </tr>\n",
       "  </tbody>\n",
       "</table>\n",
       "</div>"
      ],
      "text/plain": [
       "                     Global_active_power  Global_reactive_power  Voltage  \\\n",
       "date_time                                                                  \n",
       "16/12/2006 17:24:00                4.216                  0.418   234.84   \n",
       "16/12/2006 17:25:00                5.360                  0.436   233.63   \n",
       "16/12/2006 17:26:00                5.374                  0.498   233.29   \n",
       "16/12/2006 17:27:00                5.388                  0.502   233.74   \n",
       "16/12/2006 17:28:00                3.666                  0.528   235.68   \n",
       "\n",
       "                     Global_intensity  Sub_metering_1  Sub_metering_2  \\\n",
       "date_time                                                               \n",
       "16/12/2006 17:24:00              18.4             0.0             1.0   \n",
       "16/12/2006 17:25:00              23.0             0.0             1.0   \n",
       "16/12/2006 17:26:00              23.0             0.0             2.0   \n",
       "16/12/2006 17:27:00              23.0             0.0             1.0   \n",
       "16/12/2006 17:28:00              15.8             0.0             1.0   \n",
       "\n",
       "                     Sub_metering_3  \n",
       "date_time                            \n",
       "16/12/2006 17:24:00            17.0  \n",
       "16/12/2006 17:25:00            16.0  \n",
       "16/12/2006 17:26:00            17.0  \n",
       "16/12/2006 17:27:00            17.0  \n",
       "16/12/2006 17:28:00            17.0  "
      ]
     },
     "execution_count": 258,
     "metadata": {},
     "output_type": "execute_result"
    }
   ],
   "source": [
    "dataset.head()"
   ]
  },
  {
   "cell_type": "code",
   "execution_count": 259,
   "id": "a392eed0",
   "metadata": {},
   "outputs": [],
   "source": [
    "#save the cleaned dataset as 'cleaned_dataset.csv'\n",
    "\n",
    "dataset.to_csv('cleaned_dataset.csv')"
   ]
  },
  {
   "cell_type": "code",
   "execution_count": 260,
   "id": "245762a6",
   "metadata": {},
   "outputs": [],
   "source": [
    "new_dataset = pd.read_csv('cleaned_dataset.csv', parse_dates = True, index_col = 'date_time', low_memory = False)"
   ]
  },
  {
   "cell_type": "code",
   "execution_count": 261,
   "id": "fb95e0dc",
   "metadata": {},
   "outputs": [
    {
     "data": {
      "text/html": [
       "<div>\n",
       "<style scoped>\n",
       "    .dataframe tbody tr th:only-of-type {\n",
       "        vertical-align: middle;\n",
       "    }\n",
       "\n",
       "    .dataframe tbody tr th {\n",
       "        vertical-align: top;\n",
       "    }\n",
       "\n",
       "    .dataframe thead th {\n",
       "        text-align: right;\n",
       "    }\n",
       "</style>\n",
       "<table border=\"1\" class=\"dataframe\">\n",
       "  <thead>\n",
       "    <tr style=\"text-align: right;\">\n",
       "      <th></th>\n",
       "      <th>Global_active_power</th>\n",
       "      <th>Global_reactive_power</th>\n",
       "      <th>Voltage</th>\n",
       "      <th>Global_intensity</th>\n",
       "      <th>Sub_metering_1</th>\n",
       "      <th>Sub_metering_2</th>\n",
       "      <th>Sub_metering_3</th>\n",
       "    </tr>\n",
       "    <tr>\n",
       "      <th>date_time</th>\n",
       "      <th></th>\n",
       "      <th></th>\n",
       "      <th></th>\n",
       "      <th></th>\n",
       "      <th></th>\n",
       "      <th></th>\n",
       "      <th></th>\n",
       "    </tr>\n",
       "  </thead>\n",
       "  <tbody>\n",
       "    <tr>\n",
       "      <th>2006-12-16 17:24:00</th>\n",
       "      <td>4.216</td>\n",
       "      <td>0.418</td>\n",
       "      <td>234.84</td>\n",
       "      <td>18.4</td>\n",
       "      <td>0.0</td>\n",
       "      <td>1.0</td>\n",
       "      <td>17.0</td>\n",
       "    </tr>\n",
       "    <tr>\n",
       "      <th>2006-12-16 17:25:00</th>\n",
       "      <td>5.360</td>\n",
       "      <td>0.436</td>\n",
       "      <td>233.63</td>\n",
       "      <td>23.0</td>\n",
       "      <td>0.0</td>\n",
       "      <td>1.0</td>\n",
       "      <td>16.0</td>\n",
       "    </tr>\n",
       "    <tr>\n",
       "      <th>2006-12-16 17:26:00</th>\n",
       "      <td>5.374</td>\n",
       "      <td>0.498</td>\n",
       "      <td>233.29</td>\n",
       "      <td>23.0</td>\n",
       "      <td>0.0</td>\n",
       "      <td>2.0</td>\n",
       "      <td>17.0</td>\n",
       "    </tr>\n",
       "    <tr>\n",
       "      <th>2006-12-16 17:27:00</th>\n",
       "      <td>5.388</td>\n",
       "      <td>0.502</td>\n",
       "      <td>233.74</td>\n",
       "      <td>23.0</td>\n",
       "      <td>0.0</td>\n",
       "      <td>1.0</td>\n",
       "      <td>17.0</td>\n",
       "    </tr>\n",
       "    <tr>\n",
       "      <th>2006-12-16 17:28:00</th>\n",
       "      <td>3.666</td>\n",
       "      <td>0.528</td>\n",
       "      <td>235.68</td>\n",
       "      <td>15.8</td>\n",
       "      <td>0.0</td>\n",
       "      <td>1.0</td>\n",
       "      <td>17.0</td>\n",
       "    </tr>\n",
       "  </tbody>\n",
       "</table>\n",
       "</div>"
      ],
      "text/plain": [
       "                     Global_active_power  Global_reactive_power  Voltage  \\\n",
       "date_time                                                                  \n",
       "2006-12-16 17:24:00                4.216                  0.418   234.84   \n",
       "2006-12-16 17:25:00                5.360                  0.436   233.63   \n",
       "2006-12-16 17:26:00                5.374                  0.498   233.29   \n",
       "2006-12-16 17:27:00                5.388                  0.502   233.74   \n",
       "2006-12-16 17:28:00                3.666                  0.528   235.68   \n",
       "\n",
       "                     Global_intensity  Sub_metering_1  Sub_metering_2  \\\n",
       "date_time                                                               \n",
       "2006-12-16 17:24:00              18.4             0.0             1.0   \n",
       "2006-12-16 17:25:00              23.0             0.0             1.0   \n",
       "2006-12-16 17:26:00              23.0             0.0             2.0   \n",
       "2006-12-16 17:27:00              23.0             0.0             1.0   \n",
       "2006-12-16 17:28:00              15.8             0.0             1.0   \n",
       "\n",
       "                     Sub_metering_3  \n",
       "date_time                            \n",
       "2006-12-16 17:24:00            17.0  \n",
       "2006-12-16 17:25:00            16.0  \n",
       "2006-12-16 17:26:00            17.0  \n",
       "2006-12-16 17:27:00            17.0  \n",
       "2006-12-16 17:28:00            17.0  "
      ]
     },
     "execution_count": 261,
     "metadata": {},
     "output_type": "execute_result"
    }
   ],
   "source": [
    "new_dataset.head()"
   ]
  },
  {
   "cell_type": "code",
   "execution_count": 262,
   "id": "987b9fd6",
   "metadata": {},
   "outputs": [
    {
     "data": {
      "text/html": [
       "<div>\n",
       "<style scoped>\n",
       "    .dataframe tbody tr th:only-of-type {\n",
       "        vertical-align: middle;\n",
       "    }\n",
       "\n",
       "    .dataframe tbody tr th {\n",
       "        vertical-align: top;\n",
       "    }\n",
       "\n",
       "    .dataframe thead th {\n",
       "        text-align: right;\n",
       "    }\n",
       "</style>\n",
       "<table border=\"1\" class=\"dataframe\">\n",
       "  <thead>\n",
       "    <tr style=\"text-align: right;\">\n",
       "      <th></th>\n",
       "      <th>Global_active_power</th>\n",
       "      <th>Global_reactive_power</th>\n",
       "      <th>Voltage</th>\n",
       "      <th>Global_intensity</th>\n",
       "      <th>Sub_metering_1</th>\n",
       "      <th>Sub_metering_2</th>\n",
       "      <th>Sub_metering_3</th>\n",
       "    </tr>\n",
       "    <tr>\n",
       "      <th>date_time</th>\n",
       "      <th></th>\n",
       "      <th></th>\n",
       "      <th></th>\n",
       "      <th></th>\n",
       "      <th></th>\n",
       "      <th></th>\n",
       "      <th></th>\n",
       "    </tr>\n",
       "  </thead>\n",
       "  <tbody>\n",
       "    <tr>\n",
       "      <th>2010-11-26 20:58:00</th>\n",
       "      <td>0.946</td>\n",
       "      <td>0.0</td>\n",
       "      <td>240.43</td>\n",
       "      <td>4.0</td>\n",
       "      <td>0.0</td>\n",
       "      <td>0.0</td>\n",
       "      <td>0.0</td>\n",
       "    </tr>\n",
       "    <tr>\n",
       "      <th>2010-11-26 20:59:00</th>\n",
       "      <td>0.944</td>\n",
       "      <td>0.0</td>\n",
       "      <td>240.00</td>\n",
       "      <td>4.0</td>\n",
       "      <td>0.0</td>\n",
       "      <td>0.0</td>\n",
       "      <td>0.0</td>\n",
       "    </tr>\n",
       "    <tr>\n",
       "      <th>2010-11-26 21:00:00</th>\n",
       "      <td>0.938</td>\n",
       "      <td>0.0</td>\n",
       "      <td>239.82</td>\n",
       "      <td>3.8</td>\n",
       "      <td>0.0</td>\n",
       "      <td>0.0</td>\n",
       "      <td>0.0</td>\n",
       "    </tr>\n",
       "    <tr>\n",
       "      <th>2010-11-26 21:01:00</th>\n",
       "      <td>0.934</td>\n",
       "      <td>0.0</td>\n",
       "      <td>239.70</td>\n",
       "      <td>3.8</td>\n",
       "      <td>0.0</td>\n",
       "      <td>0.0</td>\n",
       "      <td>0.0</td>\n",
       "    </tr>\n",
       "    <tr>\n",
       "      <th>2010-11-26 21:02:00</th>\n",
       "      <td>0.932</td>\n",
       "      <td>0.0</td>\n",
       "      <td>239.55</td>\n",
       "      <td>3.8</td>\n",
       "      <td>0.0</td>\n",
       "      <td>0.0</td>\n",
       "      <td>0.0</td>\n",
       "    </tr>\n",
       "  </tbody>\n",
       "</table>\n",
       "</div>"
      ],
      "text/plain": [
       "                     Global_active_power  Global_reactive_power  Voltage  \\\n",
       "date_time                                                                  \n",
       "2010-11-26 20:58:00                0.946                    0.0   240.43   \n",
       "2010-11-26 20:59:00                0.944                    0.0   240.00   \n",
       "2010-11-26 21:00:00                0.938                    0.0   239.82   \n",
       "2010-11-26 21:01:00                0.934                    0.0   239.70   \n",
       "2010-11-26 21:02:00                0.932                    0.0   239.55   \n",
       "\n",
       "                     Global_intensity  Sub_metering_1  Sub_metering_2  \\\n",
       "date_time                                                               \n",
       "2010-11-26 20:58:00               4.0             0.0             0.0   \n",
       "2010-11-26 20:59:00               4.0             0.0             0.0   \n",
       "2010-11-26 21:00:00               3.8             0.0             0.0   \n",
       "2010-11-26 21:01:00               3.8             0.0             0.0   \n",
       "2010-11-26 21:02:00               3.8             0.0             0.0   \n",
       "\n",
       "                     Sub_metering_3  \n",
       "date_time                            \n",
       "2010-11-26 20:58:00             0.0  \n",
       "2010-11-26 20:59:00             0.0  \n",
       "2010-11-26 21:00:00             0.0  \n",
       "2010-11-26 21:01:00             0.0  \n",
       "2010-11-26 21:02:00             0.0  "
      ]
     },
     "execution_count": 262,
     "metadata": {},
     "output_type": "execute_result"
    }
   ],
   "source": [
    "new_dataset.tail()"
   ]
  },
  {
   "cell_type": "code",
   "execution_count": 263,
   "id": "44cbfb8d",
   "metadata": {},
   "outputs": [],
   "source": [
    "#sampling data into daywise manner\n",
    "\n",
    "data = new_dataset.resample('D').sum()"
   ]
  },
  {
   "cell_type": "code",
   "execution_count": 264,
   "id": "e5f541a2",
   "metadata": {},
   "outputs": [
    {
     "data": {
      "text/html": [
       "<div>\n",
       "<style scoped>\n",
       "    .dataframe tbody tr th:only-of-type {\n",
       "        vertical-align: middle;\n",
       "    }\n",
       "\n",
       "    .dataframe tbody tr th {\n",
       "        vertical-align: top;\n",
       "    }\n",
       "\n",
       "    .dataframe thead th {\n",
       "        text-align: right;\n",
       "    }\n",
       "</style>\n",
       "<table border=\"1\" class=\"dataframe\">\n",
       "  <thead>\n",
       "    <tr style=\"text-align: right;\">\n",
       "      <th></th>\n",
       "      <th>Global_active_power</th>\n",
       "      <th>Global_reactive_power</th>\n",
       "      <th>Voltage</th>\n",
       "      <th>Global_intensity</th>\n",
       "      <th>Sub_metering_1</th>\n",
       "      <th>Sub_metering_2</th>\n",
       "      <th>Sub_metering_3</th>\n",
       "    </tr>\n",
       "    <tr>\n",
       "      <th>date_time</th>\n",
       "      <th></th>\n",
       "      <th></th>\n",
       "      <th></th>\n",
       "      <th></th>\n",
       "      <th></th>\n",
       "      <th></th>\n",
       "      <th></th>\n",
       "    </tr>\n",
       "  </thead>\n",
       "  <tbody>\n",
       "    <tr>\n",
       "      <th>2006-12-16</th>\n",
       "      <td>1209.176</td>\n",
       "      <td>34.922</td>\n",
       "      <td>93552.53</td>\n",
       "      <td>5180.8</td>\n",
       "      <td>0.0</td>\n",
       "      <td>546.0</td>\n",
       "      <td>4926.0</td>\n",
       "    </tr>\n",
       "    <tr>\n",
       "      <th>2006-12-17</th>\n",
       "      <td>3390.460</td>\n",
       "      <td>226.006</td>\n",
       "      <td>345725.32</td>\n",
       "      <td>14398.6</td>\n",
       "      <td>2033.0</td>\n",
       "      <td>4187.0</td>\n",
       "      <td>13341.0</td>\n",
       "    </tr>\n",
       "    <tr>\n",
       "      <th>2006-12-18</th>\n",
       "      <td>2203.826</td>\n",
       "      <td>161.792</td>\n",
       "      <td>347373.64</td>\n",
       "      <td>9247.2</td>\n",
       "      <td>1063.0</td>\n",
       "      <td>2621.0</td>\n",
       "      <td>14018.0</td>\n",
       "    </tr>\n",
       "    <tr>\n",
       "      <th>2006-12-19</th>\n",
       "      <td>1666.194</td>\n",
       "      <td>150.942</td>\n",
       "      <td>348479.01</td>\n",
       "      <td>7094.0</td>\n",
       "      <td>839.0</td>\n",
       "      <td>7602.0</td>\n",
       "      <td>6197.0</td>\n",
       "    </tr>\n",
       "    <tr>\n",
       "      <th>2006-12-20</th>\n",
       "      <td>2225.748</td>\n",
       "      <td>160.998</td>\n",
       "      <td>348923.61</td>\n",
       "      <td>9313.0</td>\n",
       "      <td>0.0</td>\n",
       "      <td>2648.0</td>\n",
       "      <td>14063.0</td>\n",
       "    </tr>\n",
       "  </tbody>\n",
       "</table>\n",
       "</div>"
      ],
      "text/plain": [
       "            Global_active_power  Global_reactive_power    Voltage  \\\n",
       "date_time                                                           \n",
       "2006-12-16             1209.176                 34.922   93552.53   \n",
       "2006-12-17             3390.460                226.006  345725.32   \n",
       "2006-12-18             2203.826                161.792  347373.64   \n",
       "2006-12-19             1666.194                150.942  348479.01   \n",
       "2006-12-20             2225.748                160.998  348923.61   \n",
       "\n",
       "            Global_intensity  Sub_metering_1  Sub_metering_2  Sub_metering_3  \n",
       "date_time                                                                     \n",
       "2006-12-16            5180.8             0.0           546.0          4926.0  \n",
       "2006-12-17           14398.6          2033.0          4187.0         13341.0  \n",
       "2006-12-18            9247.2          1063.0          2621.0         14018.0  \n",
       "2006-12-19            7094.0           839.0          7602.0          6197.0  \n",
       "2006-12-20            9313.0             0.0          2648.0         14063.0  "
      ]
     },
     "execution_count": 264,
     "metadata": {},
     "output_type": "execute_result"
    }
   ],
   "source": [
    "data.head()"
   ]
  },
  {
   "cell_type": "code",
   "execution_count": 265,
   "id": "74cbe9de",
   "metadata": {},
   "outputs": [
    {
     "data": {
      "text/html": [
       "<div>\n",
       "<style scoped>\n",
       "    .dataframe tbody tr th:only-of-type {\n",
       "        vertical-align: middle;\n",
       "    }\n",
       "\n",
       "    .dataframe tbody tr th {\n",
       "        vertical-align: top;\n",
       "    }\n",
       "\n",
       "    .dataframe thead th {\n",
       "        text-align: right;\n",
       "    }\n",
       "</style>\n",
       "<table border=\"1\" class=\"dataframe\">\n",
       "  <thead>\n",
       "    <tr style=\"text-align: right;\">\n",
       "      <th></th>\n",
       "      <th>Global_active_power</th>\n",
       "      <th>Global_reactive_power</th>\n",
       "      <th>Voltage</th>\n",
       "      <th>Global_intensity</th>\n",
       "      <th>Sub_metering_1</th>\n",
       "      <th>Sub_metering_2</th>\n",
       "      <th>Sub_metering_3</th>\n",
       "    </tr>\n",
       "    <tr>\n",
       "      <th>date_time</th>\n",
       "      <th></th>\n",
       "      <th></th>\n",
       "      <th></th>\n",
       "      <th></th>\n",
       "      <th></th>\n",
       "      <th></th>\n",
       "      <th></th>\n",
       "    </tr>\n",
       "  </thead>\n",
       "  <tbody>\n",
       "    <tr>\n",
       "      <th>2010-12-07</th>\n",
       "      <td>1109.574</td>\n",
       "      <td>285.912</td>\n",
       "      <td>345914.85</td>\n",
       "      <td>4892.0</td>\n",
       "      <td>1724.0</td>\n",
       "      <td>646.0</td>\n",
       "      <td>6444.0</td>\n",
       "    </tr>\n",
       "    <tr>\n",
       "      <th>2010-12-08</th>\n",
       "      <td>529.698</td>\n",
       "      <td>169.098</td>\n",
       "      <td>346744.70</td>\n",
       "      <td>2338.2</td>\n",
       "      <td>0.0</td>\n",
       "      <td>514.0</td>\n",
       "      <td>3982.0</td>\n",
       "    </tr>\n",
       "    <tr>\n",
       "      <th>2010-12-09</th>\n",
       "      <td>1612.092</td>\n",
       "      <td>201.358</td>\n",
       "      <td>347932.40</td>\n",
       "      <td>6848.2</td>\n",
       "      <td>1805.0</td>\n",
       "      <td>2080.0</td>\n",
       "      <td>8891.0</td>\n",
       "    </tr>\n",
       "    <tr>\n",
       "      <th>2010-12-10</th>\n",
       "      <td>1579.692</td>\n",
       "      <td>170.268</td>\n",
       "      <td>345975.37</td>\n",
       "      <td>6741.2</td>\n",
       "      <td>1104.0</td>\n",
       "      <td>780.0</td>\n",
       "      <td>9812.0</td>\n",
       "    </tr>\n",
       "    <tr>\n",
       "      <th>2010-12-11</th>\n",
       "      <td>1836.822</td>\n",
       "      <td>151.144</td>\n",
       "      <td>343926.57</td>\n",
       "      <td>7826.2</td>\n",
       "      <td>2054.0</td>\n",
       "      <td>489.0</td>\n",
       "      <td>10308.0</td>\n",
       "    </tr>\n",
       "  </tbody>\n",
       "</table>\n",
       "</div>"
      ],
      "text/plain": [
       "            Global_active_power  Global_reactive_power    Voltage  \\\n",
       "date_time                                                           \n",
       "2010-12-07             1109.574                285.912  345914.85   \n",
       "2010-12-08              529.698                169.098  346744.70   \n",
       "2010-12-09             1612.092                201.358  347932.40   \n",
       "2010-12-10             1579.692                170.268  345975.37   \n",
       "2010-12-11             1836.822                151.144  343926.57   \n",
       "\n",
       "            Global_intensity  Sub_metering_1  Sub_metering_2  Sub_metering_3  \n",
       "date_time                                                                     \n",
       "2010-12-07            4892.0          1724.0           646.0          6444.0  \n",
       "2010-12-08            2338.2             0.0           514.0          3982.0  \n",
       "2010-12-09            6848.2          1805.0          2080.0          8891.0  \n",
       "2010-12-10            6741.2          1104.0           780.0          9812.0  \n",
       "2010-12-11            7826.2          2054.0           489.0         10308.0  "
      ]
     },
     "execution_count": 265,
     "metadata": {},
     "output_type": "execute_result"
    }
   ],
   "source": [
    "data.tail()"
   ]
  },
  {
   "cell_type": "markdown",
   "id": "26c227f7",
   "metadata": {},
   "source": [
    "# Spliting the Dataset"
   ]
  },
  {
   "cell_type": "code",
   "execution_count": 266,
   "id": "8bca2340",
   "metadata": {},
   "outputs": [
    {
     "data": {
      "text/plain": [
       "date_time\n",
       "2006-12-16    1209.176\n",
       "2006-12-17    3390.460\n",
       "2006-12-18    2203.826\n",
       "2006-12-19    1666.194\n",
       "2006-12-20    2225.748\n",
       "Freq: D, Name: Global_active_power, dtype: float64"
      ]
     },
     "execution_count": 266,
     "metadata": {},
     "output_type": "execute_result"
    }
   ],
   "source": [
    "#dataset upto 2009-09-30 is in train dataset and remaining is in the test dataset\n",
    "\n",
    "data_train = data.loc[:'2009-12-31', :]['Global_active_power']\n",
    "data_train.head()"
   ]
  },
  {
   "cell_type": "code",
   "execution_count": 267,
   "id": "614b44a6",
   "metadata": {},
   "outputs": [
    {
     "name": "stderr",
     "output_type": "stream",
     "text": [
      "C:\\Users\\User\\AppData\\Local\\Temp\\ipykernel_16592\\1549945687.py:1: FutureWarning: Indexing a DataFrame with a datetimelike index using a single string to slice the rows, like `frame[string]`, is deprecated and will be removed in a future version. Use `frame.loc[string]` instead.\n",
      "  data_test = data['2010']['Global_active_power']\n"
     ]
    },
    {
     "data": {
      "text/plain": [
       "date_time\n",
       "2010-01-01    1224.252\n",
       "2010-01-02    1693.778\n",
       "2010-01-03    1298.728\n",
       "2010-01-04    1687.440\n",
       "2010-01-05    1320.158\n",
       "Freq: D, Name: Global_active_power, dtype: float64"
      ]
     },
     "execution_count": 267,
     "metadata": {},
     "output_type": "execute_result"
    }
   ],
   "source": [
    "data_test = data['2010']['Global_active_power']\n",
    "data_test.head()"
   ]
  },
  {
   "cell_type": "code",
   "execution_count": 268,
   "id": "71ad9b2d",
   "metadata": {},
   "outputs": [
    {
     "data": {
      "text/plain": [
       "(1112,)"
      ]
     },
     "execution_count": 268,
     "metadata": {},
     "output_type": "execute_result"
    }
   ],
   "source": [
    "data_train.shape"
   ]
  },
  {
   "cell_type": "markdown",
   "id": "58bbe2cd",
   "metadata": {},
   "source": [
    "There are 1112 datapoints in the train dataset."
   ]
  },
  {
   "cell_type": "code",
   "execution_count": 269,
   "id": "2b1146a7",
   "metadata": {},
   "outputs": [
    {
     "data": {
      "text/plain": [
       "(345,)"
      ]
     },
     "execution_count": 269,
     "metadata": {},
     "output_type": "execute_result"
    }
   ],
   "source": [
    "data_test.shape"
   ]
  },
  {
   "cell_type": "markdown",
   "id": "e156a0f0",
   "metadata": {},
   "source": [
    "There are 345 datapoints in the test dataset."
   ]
  },
  {
   "cell_type": "markdown",
   "id": "1e4b4dce",
   "metadata": {},
   "source": [
    "# Preparing training data"
   ]
  },
  {
   "cell_type": "code",
   "execution_count": 270,
   "id": "4fb7b1bf",
   "metadata": {},
   "outputs": [
    {
     "data": {
      "text/plain": [
       "date_time\n",
       "2006-12-16    1209.176\n",
       "2006-12-17    3390.460\n",
       "2006-12-18    2203.826\n",
       "2006-12-19    1666.194\n",
       "2006-12-20    2225.748\n",
       "2006-12-21    1723.288\n",
       "2006-12-22    2341.338\n",
       "2006-12-23    4773.386\n",
       "2006-12-24    2550.012\n",
       "2006-12-25    2743.120\n",
       "2006-12-26    3934.110\n",
       "2006-12-27    1528.760\n",
       "2006-12-28    2072.638\n",
       "2006-12-29    3174.392\n",
       "Freq: D, Name: Global_active_power, dtype: float64"
      ]
     },
     "execution_count": 270,
     "metadata": {},
     "output_type": "execute_result"
    }
   ],
   "source": [
    "data_train.head(14)"
   ]
  },
  {
   "cell_type": "code",
   "execution_count": 271,
   "id": "574c697d",
   "metadata": {},
   "outputs": [],
   "source": [
    "#converting the train data into a numpy array\n",
    "\n",
    "data_train = np.array(data_train)"
   ]
  },
  {
   "cell_type": "code",
   "execution_count": 272,
   "id": "f5ab0109",
   "metadata": {},
   "outputs": [],
   "source": [
    "#splitting the data weekly wise\n",
    "\n",
    "X_train, y_train = [], []\n",
    "\n",
    "for i in range(7, len(data_train)-7):\n",
    "    X_train.append(data_train[i-7:i])\n",
    "    y_train.append(data_train[i:i+7])"
   ]
  },
  {
   "cell_type": "code",
   "execution_count": 273,
   "id": "a3741d28",
   "metadata": {},
   "outputs": [],
   "source": [
    "#converting list to numpy array\n",
    "\n",
    "X_train, y_train = np.array(X_train), np.array(y_train)"
   ]
  },
  {
   "cell_type": "code",
   "execution_count": 274,
   "id": "f5ad5b6e",
   "metadata": {},
   "outputs": [
    {
     "data": {
      "text/plain": [
       "((1098, 7), (1098, 7))"
      ]
     },
     "execution_count": 274,
     "metadata": {},
     "output_type": "execute_result"
    }
   ],
   "source": [
    "#shape of train and test dataset\n",
    "\n",
    "X_train.shape, y_train.shape"
   ]
  },
  {
   "cell_type": "code",
   "execution_count": 275,
   "id": "54970d9f",
   "metadata": {},
   "outputs": [
    {
     "data": {
      "text/html": [
       "<div>\n",
       "<style scoped>\n",
       "    .dataframe tbody tr th:only-of-type {\n",
       "        vertical-align: middle;\n",
       "    }\n",
       "\n",
       "    .dataframe tbody tr th {\n",
       "        vertical-align: top;\n",
       "    }\n",
       "\n",
       "    .dataframe thead th {\n",
       "        text-align: right;\n",
       "    }\n",
       "</style>\n",
       "<table border=\"1\" class=\"dataframe\">\n",
       "  <thead>\n",
       "    <tr style=\"text-align: right;\">\n",
       "      <th></th>\n",
       "      <th>0</th>\n",
       "      <th>1</th>\n",
       "      <th>2</th>\n",
       "      <th>3</th>\n",
       "      <th>4</th>\n",
       "      <th>5</th>\n",
       "      <th>6</th>\n",
       "    </tr>\n",
       "  </thead>\n",
       "  <tbody>\n",
       "    <tr>\n",
       "      <th>0</th>\n",
       "      <td>4773.386</td>\n",
       "      <td>2550.012</td>\n",
       "      <td>2743.120</td>\n",
       "      <td>3934.110</td>\n",
       "      <td>1528.760</td>\n",
       "      <td>2072.638</td>\n",
       "      <td>3174.392</td>\n",
       "    </tr>\n",
       "    <tr>\n",
       "      <th>1</th>\n",
       "      <td>2550.012</td>\n",
       "      <td>2743.120</td>\n",
       "      <td>3934.110</td>\n",
       "      <td>1528.760</td>\n",
       "      <td>2072.638</td>\n",
       "      <td>3174.392</td>\n",
       "      <td>2796.108</td>\n",
       "    </tr>\n",
       "    <tr>\n",
       "      <th>2</th>\n",
       "      <td>2743.120</td>\n",
       "      <td>3934.110</td>\n",
       "      <td>1528.760</td>\n",
       "      <td>2072.638</td>\n",
       "      <td>3174.392</td>\n",
       "      <td>2796.108</td>\n",
       "      <td>3494.196</td>\n",
       "    </tr>\n",
       "    <tr>\n",
       "      <th>3</th>\n",
       "      <td>3934.110</td>\n",
       "      <td>1528.760</td>\n",
       "      <td>2072.638</td>\n",
       "      <td>3174.392</td>\n",
       "      <td>2796.108</td>\n",
       "      <td>3494.196</td>\n",
       "      <td>2749.004</td>\n",
       "    </tr>\n",
       "    <tr>\n",
       "      <th>4</th>\n",
       "      <td>1528.760</td>\n",
       "      <td>2072.638</td>\n",
       "      <td>3174.392</td>\n",
       "      <td>2796.108</td>\n",
       "      <td>3494.196</td>\n",
       "      <td>2749.004</td>\n",
       "      <td>1824.760</td>\n",
       "    </tr>\n",
       "  </tbody>\n",
       "</table>\n",
       "</div>"
      ],
      "text/plain": [
       "          0         1         2         3         4         5         6\n",
       "0  4773.386  2550.012  2743.120  3934.110  1528.760  2072.638  3174.392\n",
       "1  2550.012  2743.120  3934.110  1528.760  2072.638  3174.392  2796.108\n",
       "2  2743.120  3934.110  1528.760  2072.638  3174.392  2796.108  3494.196\n",
       "3  3934.110  1528.760  2072.638  3174.392  2796.108  3494.196  2749.004\n",
       "4  1528.760  2072.638  3174.392  2796.108  3494.196  2749.004  1824.760"
      ]
     },
     "execution_count": 275,
     "metadata": {},
     "output_type": "execute_result"
    }
   ],
   "source": [
    "pd.DataFrame(y_train).head()"
   ]
  },
  {
   "cell_type": "code",
   "execution_count": 276,
   "id": "69201413",
   "metadata": {},
   "outputs": [],
   "source": [
    "#Normalising the training data. \n",
    "#The task of normalization is used to convert different scale values to same scale values.\n",
    "\n",
    "x_scaler = MinMaxScaler()\n",
    "X_train = x_scaler.fit_transform(X_train)\n",
    "\n",
    "y_scaler = MinMaxScaler()\n",
    "y_train = y_scaler.fit_transform(y_train)"
   ]
  },
  {
   "cell_type": "code",
   "execution_count": 277,
   "id": "1abbbb8a",
   "metadata": {},
   "outputs": [
    {
     "data": {
      "text/html": [
       "<div>\n",
       "<style scoped>\n",
       "    .dataframe tbody tr th:only-of-type {\n",
       "        vertical-align: middle;\n",
       "    }\n",
       "\n",
       "    .dataframe tbody tr th {\n",
       "        vertical-align: top;\n",
       "    }\n",
       "\n",
       "    .dataframe thead th {\n",
       "        text-align: right;\n",
       "    }\n",
       "</style>\n",
       "<table border=\"1\" class=\"dataframe\">\n",
       "  <thead>\n",
       "    <tr style=\"text-align: right;\">\n",
       "      <th></th>\n",
       "      <th>0</th>\n",
       "      <th>1</th>\n",
       "      <th>2</th>\n",
       "      <th>3</th>\n",
       "      <th>4</th>\n",
       "      <th>5</th>\n",
       "      <th>6</th>\n",
       "    </tr>\n",
       "  </thead>\n",
       "  <tbody>\n",
       "    <tr>\n",
       "      <th>0</th>\n",
       "      <td>0.211996</td>\n",
       "      <td>0.694252</td>\n",
       "      <td>0.431901</td>\n",
       "      <td>0.313037</td>\n",
       "      <td>0.436748</td>\n",
       "      <td>0.325660</td>\n",
       "      <td>0.462304</td>\n",
       "    </tr>\n",
       "    <tr>\n",
       "      <th>1</th>\n",
       "      <td>0.694252</td>\n",
       "      <td>0.431901</td>\n",
       "      <td>0.313037</td>\n",
       "      <td>0.436748</td>\n",
       "      <td>0.325660</td>\n",
       "      <td>0.462304</td>\n",
       "      <td>1.000000</td>\n",
       "    </tr>\n",
       "    <tr>\n",
       "      <th>2</th>\n",
       "      <td>0.431901</td>\n",
       "      <td>0.313037</td>\n",
       "      <td>0.436748</td>\n",
       "      <td>0.325660</td>\n",
       "      <td>0.462304</td>\n",
       "      <td>1.000000</td>\n",
       "      <td>0.508439</td>\n",
       "    </tr>\n",
       "    <tr>\n",
       "      <th>3</th>\n",
       "      <td>0.313037</td>\n",
       "      <td>0.436748</td>\n",
       "      <td>0.325660</td>\n",
       "      <td>0.462304</td>\n",
       "      <td>1.000000</td>\n",
       "      <td>0.508439</td>\n",
       "      <td>0.551133</td>\n",
       "    </tr>\n",
       "    <tr>\n",
       "      <th>4</th>\n",
       "      <td>0.436748</td>\n",
       "      <td>0.325660</td>\n",
       "      <td>0.462304</td>\n",
       "      <td>1.000000</td>\n",
       "      <td>0.508439</td>\n",
       "      <td>0.551133</td>\n",
       "      <td>0.814446</td>\n",
       "    </tr>\n",
       "  </tbody>\n",
       "</table>\n",
       "</div>"
      ],
      "text/plain": [
       "          0         1         2         3         4         5         6\n",
       "0  0.211996  0.694252  0.431901  0.313037  0.436748  0.325660  0.462304\n",
       "1  0.694252  0.431901  0.313037  0.436748  0.325660  0.462304  1.000000\n",
       "2  0.431901  0.313037  0.436748  0.325660  0.462304  1.000000  0.508439\n",
       "3  0.313037  0.436748  0.325660  0.462304  1.000000  0.508439  0.551133\n",
       "4  0.436748  0.325660  0.462304  1.000000  0.508439  0.551133  0.814446"
      ]
     },
     "execution_count": 277,
     "metadata": {},
     "output_type": "execute_result"
    }
   ],
   "source": [
    "pd.DataFrame(X_train).head()"
   ]
  },
  {
   "cell_type": "code",
   "execution_count": 278,
   "id": "d99cfa3d",
   "metadata": {},
   "outputs": [],
   "source": [
    "#convert to 3 dimension\n",
    "\n",
    "X_train = X_train.reshape(1098, 7, 1)"
   ]
  },
  {
   "cell_type": "code",
   "execution_count": 279,
   "id": "a297ab8c",
   "metadata": {},
   "outputs": [
    {
     "data": {
      "text/plain": [
       "(1098, 7, 1)"
      ]
     },
     "execution_count": 279,
     "metadata": {},
     "output_type": "execute_result"
    }
   ],
   "source": [
    "X_train.shape"
   ]
  },
  {
   "cell_type": "markdown",
   "id": "b7b5e034",
   "metadata": {},
   "source": [
    "# Preparing Test Dataset"
   ]
  },
  {
   "cell_type": "code",
   "execution_count": 280,
   "id": "693e5fec",
   "metadata": {},
   "outputs": [],
   "source": [
    "#converting the test data into a numpy array\n",
    "\n",
    "data_test = np.array(data_test)"
   ]
  },
  {
   "cell_type": "code",
   "execution_count": 281,
   "id": "955bdc85",
   "metadata": {},
   "outputs": [],
   "source": [
    "#splitting the data weekly wise\n",
    "\n",
    "X_test, y_test = [], []\n",
    "\n",
    "for i in range(7, len(data_test)-7):\n",
    "    X_test.append(data_test[i-7:i])\n",
    "    y_test.append(data_test[i:i+7])"
   ]
  },
  {
   "cell_type": "code",
   "execution_count": 282,
   "id": "bd953353",
   "metadata": {},
   "outputs": [],
   "source": [
    "#converting list to numpy array\n",
    "\n",
    "X_test, y_test = np.array(X_test), np.array(y_test)"
   ]
  },
  {
   "cell_type": "code",
   "execution_count": 283,
   "id": "b06af01b",
   "metadata": {},
   "outputs": [],
   "source": [
    "#Normalising the test data\n",
    "\n",
    "X_test = x_scaler.transform(X_test)\n",
    "y_test = y_scaler.transform(y_test)"
   ]
  },
  {
   "cell_type": "code",
   "execution_count": 284,
   "id": "3834f6cd",
   "metadata": {},
   "outputs": [],
   "source": [
    "#convert to 3 dimension\n",
    "\n",
    "X_test = X_test.reshape(331,7,1)"
   ]
  },
  {
   "cell_type": "code",
   "execution_count": 285,
   "id": "f6376f09",
   "metadata": {},
   "outputs": [
    {
     "data": {
      "text/plain": [
       "(331, 7, 1)"
      ]
     },
     "execution_count": 285,
     "metadata": {},
     "output_type": "execute_result"
    }
   ],
   "source": [
    "X_test.shape"
   ]
  },
  {
   "cell_type": "markdown",
   "id": "4fb0d2c8",
   "metadata": {},
   "source": [
    "# Creating a LSTM (Large Short Term Memory) model"
   ]
  },
  {
   "cell_type": "code",
   "execution_count": 286,
   "id": "474e0ba9",
   "metadata": {},
   "outputs": [],
   "source": [
    "#building sequential model using Keras\n",
    "\n",
    "model = Sequential()\n",
    "model.add(LSTM(units = 200, activation = 'relu', input_shape=(7,1)))\n",
    "model.add(Dense(7))"
   ]
  },
  {
   "cell_type": "markdown",
   "id": "e0c1ea5b",
   "metadata": {},
   "source": [
    "ReLU(rectified linear activation function) is used to create this LSTM model. It is a piecewise linear function that will output the input directly if it is positive, otherwise, it will output zero."
   ]
  },
  {
   "cell_type": "code",
   "execution_count": 287,
   "id": "d43ededc",
   "metadata": {},
   "outputs": [],
   "source": [
    "model.compile(loss='mse', optimizer='adam',metrics=['accuracy'])"
   ]
  },
  {
   "cell_type": "markdown",
   "id": "10511807",
   "metadata": {},
   "source": [
    "There are three types of Performance Metrics as 'Mean Squared Error', 'Root Mean Squared Error', and the 'Mean Absolute Error'.\n",
    "\n",
    "The 'Mean Squared Error' is used as the performance metrics in this model.\n",
    "\n",
    "'Adam Optimization Algorithm' is used as the optimization algorithm."
   ]
  },
  {
   "cell_type": "code",
   "execution_count": 288,
   "id": "bdd48750",
   "metadata": {},
   "outputs": [
    {
     "name": "stdout",
     "output_type": "stream",
     "text": [
      "Model: \"sequential_2\"\n",
      "_________________________________________________________________\n",
      "Layer (type)                 Output Shape              Param #   \n",
      "=================================================================\n",
      "lstm_2 (LSTM)                (None, 200)               161600    \n",
      "_________________________________________________________________\n",
      "dense_2 (Dense)              (None, 7)                 1407      \n",
      "=================================================================\n",
      "Total params: 163,007\n",
      "Trainable params: 163,007\n",
      "Non-trainable params: 0\n",
      "_________________________________________________________________\n"
     ]
    }
   ],
   "source": [
    "model.summary()"
   ]
  },
  {
   "cell_type": "markdown",
   "id": "61c05464",
   "metadata": {},
   "source": [
    "# Training the Model"
   ]
  },
  {
   "cell_type": "code",
   "execution_count": 300,
   "id": "77cab49c",
   "metadata": {},
   "outputs": [
    {
     "name": "stdout",
     "output_type": "stream",
     "text": [
      "Epoch 1/100\n",
      "35/35 [==============================] - 0s 8ms/step - loss: 0.0230 - accuracy: 0.1812 - val_loss: 0.0225 - val_accuracy: 0.1390\n",
      "Epoch 2/100\n",
      "35/35 [==============================] - 0s 8ms/step - loss: 0.0229 - accuracy: 0.1976 - val_loss: 0.0226 - val_accuracy: 0.1511\n",
      "Epoch 3/100\n",
      "35/35 [==============================] - 0s 7ms/step - loss: 0.0228 - accuracy: 0.1940 - val_loss: 0.0227 - val_accuracy: 0.1390\n",
      "Epoch 4/100\n",
      "35/35 [==============================] - 0s 9ms/step - loss: 0.0229 - accuracy: 0.1776 - val_loss: 0.0222 - val_accuracy: 0.1480\n",
      "Epoch 5/100\n",
      "35/35 [==============================] - 1s 15ms/step - loss: 0.0230 - accuracy: 0.1803 - val_loss: 0.0222 - val_accuracy: 0.1601\n",
      "Epoch 6/100\n",
      "35/35 [==============================] - 1s 15ms/step - loss: 0.0229 - accuracy: 0.2031 - val_loss: 0.0229 - val_accuracy: 0.1329\n",
      "Epoch 7/100\n",
      "35/35 [==============================] - 0s 12ms/step - loss: 0.0228 - accuracy: 0.1894 - val_loss: 0.0220 - val_accuracy: 0.1239\n",
      "Epoch 8/100\n",
      "35/35 [==============================] - 0s 7ms/step - loss: 0.0229 - accuracy: 0.1967 - val_loss: 0.0225 - val_accuracy: 0.1480\n",
      "Epoch 9/100\n",
      "35/35 [==============================] - 0s 7ms/step - loss: 0.0228 - accuracy: 0.2031 - val_loss: 0.0225 - val_accuracy: 0.1390\n",
      "Epoch 10/100\n",
      "35/35 [==============================] - 0s 7ms/step - loss: 0.0229 - accuracy: 0.1858 - val_loss: 0.0221 - val_accuracy: 0.1541\n",
      "Epoch 11/100\n",
      "35/35 [==============================] - 0s 7ms/step - loss: 0.0228 - accuracy: 0.1867 - val_loss: 0.0221 - val_accuracy: 0.1299\n",
      "Epoch 12/100\n",
      "35/35 [==============================] - 0s 7ms/step - loss: 0.0229 - accuracy: 0.1812 - val_loss: 0.0224 - val_accuracy: 0.1662\n",
      "Epoch 13/100\n",
      "35/35 [==============================] - 0s 7ms/step - loss: 0.0229 - accuracy: 0.1803 - val_loss: 0.0220 - val_accuracy: 0.1390\n",
      "Epoch 14/100\n",
      "35/35 [==============================] - 0s 14ms/step - loss: 0.0229 - accuracy: 0.1903 - val_loss: 0.0226 - val_accuracy: 0.1299\n",
      "Epoch 15/100\n",
      "35/35 [==============================] - 1s 15ms/step - loss: 0.0229 - accuracy: 0.1931 - val_loss: 0.0225 - val_accuracy: 0.1269\n",
      "Epoch 16/100\n",
      "35/35 [==============================] - 1s 14ms/step - loss: 0.0227 - accuracy: 0.1967 - val_loss: 0.0241 - val_accuracy: 0.1752\n",
      "Epoch 17/100\n",
      "35/35 [==============================] - 0s 7ms/step - loss: 0.0230 - accuracy: 0.2067 - val_loss: 0.0231 - val_accuracy: 0.1450\n",
      "Epoch 18/100\n",
      "35/35 [==============================] - 0s 7ms/step - loss: 0.0229 - accuracy: 0.1885 - val_loss: 0.0222 - val_accuracy: 0.1782\n",
      "Epoch 19/100\n",
      "35/35 [==============================] - 0s 7ms/step - loss: 0.0228 - accuracy: 0.2049 - val_loss: 0.0228 - val_accuracy: 0.1420\n",
      "Epoch 20/100\n",
      "35/35 [==============================] - 0s 7ms/step - loss: 0.0227 - accuracy: 0.1985 - val_loss: 0.0222 - val_accuracy: 0.1722\n",
      "Epoch 21/100\n",
      "35/35 [==============================] - 0s 7ms/step - loss: 0.0227 - accuracy: 0.2077 - val_loss: 0.0229 - val_accuracy: 0.1541\n",
      "Epoch 22/100\n",
      "35/35 [==============================] - 0s 9ms/step - loss: 0.0229 - accuracy: 0.1931 - val_loss: 0.0221 - val_accuracy: 0.1662\n",
      "Epoch 23/100\n",
      "35/35 [==============================] - 1s 14ms/step - loss: 0.0228 - accuracy: 0.2113 - val_loss: 0.0220 - val_accuracy: 0.1752\n",
      "Epoch 24/100\n",
      "35/35 [==============================] - 1s 15ms/step - loss: 0.0227 - accuracy: 0.1894 - val_loss: 0.0225 - val_accuracy: 0.1601\n",
      "Epoch 25/100\n",
      "35/35 [==============================] - 0s 14ms/step - loss: 0.0227 - accuracy: 0.1903 - val_loss: 0.0223 - val_accuracy: 0.1360\n",
      "Epoch 26/100\n",
      "35/35 [==============================] - 0s 7ms/step - loss: 0.0227 - accuracy: 0.2040 - val_loss: 0.0221 - val_accuracy: 0.1480\n",
      "Epoch 27/100\n",
      "35/35 [==============================] - 0s 9ms/step - loss: 0.0227 - accuracy: 0.1785 - val_loss: 0.0229 - val_accuracy: 0.1420\n",
      "Epoch 28/100\n",
      "35/35 [==============================] - 0s 7ms/step - loss: 0.0227 - accuracy: 0.2022 - val_loss: 0.0232 - val_accuracy: 0.1360\n",
      "Epoch 29/100\n",
      "35/35 [==============================] - 0s 7ms/step - loss: 0.0227 - accuracy: 0.1922 - val_loss: 0.0222 - val_accuracy: 0.1390\n",
      "Epoch 30/100\n",
      "35/35 [==============================] - 0s 7ms/step - loss: 0.0227 - accuracy: 0.1849 - val_loss: 0.0223 - val_accuracy: 0.1601\n",
      "Epoch 31/100\n",
      "35/35 [==============================] - 0s 12ms/step - loss: 0.0226 - accuracy: 0.2049 - val_loss: 0.0229 - val_accuracy: 0.1269\n",
      "Epoch 32/100\n",
      "35/35 [==============================] - 1s 15ms/step - loss: 0.0225 - accuracy: 0.2040 - val_loss: 0.0234 - val_accuracy: 0.1360\n",
      "Epoch 33/100\n",
      "35/35 [==============================] - 1s 15ms/step - loss: 0.0228 - accuracy: 0.1949 - val_loss: 0.0222 - val_accuracy: 0.1511\n",
      "Epoch 34/100\n",
      "35/35 [==============================] - 0s 10ms/step - loss: 0.0225 - accuracy: 0.2031 - val_loss: 0.0229 - val_accuracy: 0.1269\n",
      "Epoch 35/100\n",
      "35/35 [==============================] - 0s 7ms/step - loss: 0.0225 - accuracy: 0.1885 - val_loss: 0.0225 - val_accuracy: 0.1511\n",
      "Epoch 36/100\n",
      "35/35 [==============================] - 0s 8ms/step - loss: 0.0227 - accuracy: 0.1958 - val_loss: 0.0222 - val_accuracy: 0.1601\n",
      "Epoch 37/100\n",
      "35/35 [==============================] - 0s 8ms/step - loss: 0.0227 - accuracy: 0.1958 - val_loss: 0.0221 - val_accuracy: 0.1782\n",
      "Epoch 38/100\n",
      "35/35 [==============================] - 0s 7ms/step - loss: 0.0225 - accuracy: 0.2058 - val_loss: 0.0234 - val_accuracy: 0.1360\n",
      "Epoch 39/100\n",
      "35/35 [==============================] - 0s 7ms/step - loss: 0.0227 - accuracy: 0.2040 - val_loss: 0.0223 - val_accuracy: 0.1662\n",
      "Epoch 40/100\n",
      "35/35 [==============================] - 0s 11ms/step - loss: 0.0224 - accuracy: 0.2067 - val_loss: 0.0232 - val_accuracy: 0.1360\n",
      "Epoch 41/100\n",
      "35/35 [==============================] - 1s 15ms/step - loss: 0.0226 - accuracy: 0.1949 - val_loss: 0.0223 - val_accuracy: 0.1571\n",
      "Epoch 42/100\n",
      "35/35 [==============================] - 1s 15ms/step - loss: 0.0225 - accuracy: 0.2031 - val_loss: 0.0220 - val_accuracy: 0.1511\n",
      "Epoch 43/100\n",
      "35/35 [==============================] - 0s 9ms/step - loss: 0.0226 - accuracy: 0.2040 - val_loss: 0.0227 - val_accuracy: 0.1541\n",
      "Epoch 44/100\n",
      "35/35 [==============================] - 0s 7ms/step - loss: 0.0224 - accuracy: 0.1885 - val_loss: 0.0226 - val_accuracy: 0.1480\n",
      "Epoch 45/100\n",
      "35/35 [==============================] - 0s 7ms/step - loss: 0.0225 - accuracy: 0.2058 - val_loss: 0.0219 - val_accuracy: 0.1692\n",
      "Epoch 46/100\n",
      "35/35 [==============================] - 0s 7ms/step - loss: 0.0225 - accuracy: 0.1922 - val_loss: 0.0227 - val_accuracy: 0.1571\n",
      "Epoch 47/100\n",
      "35/35 [==============================] - 0s 7ms/step - loss: 0.0225 - accuracy: 0.2022 - val_loss: 0.0228 - val_accuracy: 0.1390\n",
      "Epoch 48/100\n",
      "35/35 [==============================] - 0s 7ms/step - loss: 0.0225 - accuracy: 0.1995 - val_loss: 0.0220 - val_accuracy: 0.1631\n",
      "Epoch 49/100\n",
      "35/35 [==============================] - 0s 14ms/step - loss: 0.0225 - accuracy: 0.2149 - val_loss: 0.0228 - val_accuracy: 0.1239\n",
      "Epoch 50/100\n",
      "35/35 [==============================] - 1s 14ms/step - loss: 0.0224 - accuracy: 0.1995 - val_loss: 0.0218 - val_accuracy: 0.1601\n",
      "Epoch 51/100\n",
      "35/35 [==============================] - 1s 16ms/step - loss: 0.0223 - accuracy: 0.1976 - val_loss: 0.0226 - val_accuracy: 0.1631\n",
      "Epoch 52/100\n",
      "35/35 [==============================] - 0s 9ms/step - loss: 0.0223 - accuracy: 0.2031 - val_loss: 0.0236 - val_accuracy: 0.1511\n",
      "Epoch 53/100\n",
      "35/35 [==============================] - 0s 8ms/step - loss: 0.0224 - accuracy: 0.2104 - val_loss: 0.0227 - val_accuracy: 0.1480\n",
      "Epoch 54/100\n",
      "35/35 [==============================] - 0s 7ms/step - loss: 0.0223 - accuracy: 0.2049 - val_loss: 0.0224 - val_accuracy: 0.1511\n",
      "Epoch 55/100\n",
      "35/35 [==============================] - 0s 8ms/step - loss: 0.0223 - accuracy: 0.2213 - val_loss: 0.0221 - val_accuracy: 0.1360\n",
      "Epoch 56/100\n",
      "35/35 [==============================] - 0s 7ms/step - loss: 0.0223 - accuracy: 0.2149 - val_loss: 0.0224 - val_accuracy: 0.1178\n",
      "Epoch 57/100\n",
      "35/35 [==============================] - 0s 8ms/step - loss: 0.0222 - accuracy: 0.1949 - val_loss: 0.0222 - val_accuracy: 0.1360\n",
      "Epoch 58/100\n"
     ]
    },
    {
     "name": "stdout",
     "output_type": "stream",
     "text": [
      "35/35 [==============================] - 1s 14ms/step - loss: 0.0221 - accuracy: 0.2022 - val_loss: 0.0219 - val_accuracy: 0.1541\n",
      "Epoch 59/100\n",
      "35/35 [==============================] - 1s 15ms/step - loss: 0.0222 - accuracy: 0.2058 - val_loss: 0.0228 - val_accuracy: 0.1360\n",
      "Epoch 60/100\n",
      "35/35 [==============================] - 0s 12ms/step - loss: 0.0223 - accuracy: 0.1931 - val_loss: 0.0222 - val_accuracy: 0.1511\n",
      "Epoch 61/100\n",
      "35/35 [==============================] - 0s 7ms/step - loss: 0.0221 - accuracy: 0.2113 - val_loss: 0.0223 - val_accuracy: 0.1329\n",
      "Epoch 62/100\n",
      "35/35 [==============================] - 0s 7ms/step - loss: 0.0221 - accuracy: 0.2104 - val_loss: 0.0224 - val_accuracy: 0.1329\n",
      "Epoch 63/100\n",
      "35/35 [==============================] - 0s 7ms/step - loss: 0.0220 - accuracy: 0.2086 - val_loss: 0.0234 - val_accuracy: 0.1450\n",
      "Epoch 64/100\n",
      "35/35 [==============================] - 0s 7ms/step - loss: 0.0220 - accuracy: 0.2067 - val_loss: 0.0229 - val_accuracy: 0.1360\n",
      "Epoch 65/100\n",
      "35/35 [==============================] - 0s 7ms/step - loss: 0.0221 - accuracy: 0.2077 - val_loss: 0.0221 - val_accuracy: 0.1541\n",
      "Epoch 66/100\n",
      "35/35 [==============================] - 0s 7ms/step - loss: 0.0220 - accuracy: 0.2140 - val_loss: 0.0232 - val_accuracy: 0.1148\n",
      "Epoch 67/100\n",
      "35/35 [==============================] - 0s 13ms/step - loss: 0.0221 - accuracy: 0.2004 - val_loss: 0.0228 - val_accuracy: 0.1178\n",
      "Epoch 68/100\n",
      "35/35 [==============================] - 0s 14ms/step - loss: 0.0219 - accuracy: 0.2158 - val_loss: 0.0224 - val_accuracy: 0.1390\n",
      "Epoch 69/100\n",
      "35/35 [==============================] - 0s 14ms/step - loss: 0.0218 - accuracy: 0.2149 - val_loss: 0.0226 - val_accuracy: 0.0997\n",
      "Epoch 70/100\n",
      "35/35 [==============================] - 0s 8ms/step - loss: 0.0218 - accuracy: 0.2213 - val_loss: 0.0225 - val_accuracy: 0.1239\n",
      "Epoch 71/100\n",
      "35/35 [==============================] - 0s 7ms/step - loss: 0.0218 - accuracy: 0.2222 - val_loss: 0.0229 - val_accuracy: 0.1450\n",
      "Epoch 72/100\n",
      "35/35 [==============================] - 0s 7ms/step - loss: 0.0220 - accuracy: 0.2131 - val_loss: 0.0222 - val_accuracy: 0.1269\n",
      "Epoch 73/100\n",
      "35/35 [==============================] - 0s 7ms/step - loss: 0.0218 - accuracy: 0.2095 - val_loss: 0.0222 - val_accuracy: 0.1208\n",
      "Epoch 74/100\n",
      "35/35 [==============================] - 0s 7ms/step - loss: 0.0218 - accuracy: 0.2086 - val_loss: 0.0226 - val_accuracy: 0.1118\n",
      "Epoch 75/100\n",
      "35/35 [==============================] - 0s 7ms/step - loss: 0.0218 - accuracy: 0.2158 - val_loss: 0.0226 - val_accuracy: 0.1239\n",
      "Epoch 76/100\n",
      "35/35 [==============================] - 0s 13ms/step - loss: 0.0217 - accuracy: 0.2250 - val_loss: 0.0227 - val_accuracy: 0.1480\n",
      "Epoch 77/100\n",
      "35/35 [==============================] - 1s 14ms/step - loss: 0.0219 - accuracy: 0.2195 - val_loss: 0.0228 - val_accuracy: 0.1390\n",
      "Epoch 78/100\n",
      "35/35 [==============================] - 1s 15ms/step - loss: 0.0217 - accuracy: 0.2077 - val_loss: 0.0234 - val_accuracy: 0.1390\n",
      "Epoch 79/100\n",
      "35/35 [==============================] - 0s 9ms/step - loss: 0.0218 - accuracy: 0.2158 - val_loss: 0.0223 - val_accuracy: 0.1511\n",
      "Epoch 80/100\n",
      "35/35 [==============================] - 0s 7ms/step - loss: 0.0216 - accuracy: 0.2213 - val_loss: 0.0226 - val_accuracy: 0.1541\n",
      "Epoch 81/100\n",
      "35/35 [==============================] - 0s 7ms/step - loss: 0.0216 - accuracy: 0.2158 - val_loss: 0.0223 - val_accuracy: 0.1601\n",
      "Epoch 82/100\n",
      "35/35 [==============================] - 0s 8ms/step - loss: 0.0215 - accuracy: 0.2277 - val_loss: 0.0229 - val_accuracy: 0.1571\n",
      "Epoch 83/100\n",
      "35/35 [==============================] - 0s 8ms/step - loss: 0.0214 - accuracy: 0.2250 - val_loss: 0.0224 - val_accuracy: 0.1390\n",
      "Epoch 84/100\n",
      "35/35 [==============================] - 0s 7ms/step - loss: 0.0215 - accuracy: 0.2149 - val_loss: 0.0233 - val_accuracy: 0.1329\n",
      "Epoch 85/100\n",
      "35/35 [==============================] - 0s 14ms/step - loss: 0.0214 - accuracy: 0.2149 - val_loss: 0.0229 - val_accuracy: 0.1329\n",
      "Epoch 86/100\n",
      "35/35 [==============================] - 0s 14ms/step - loss: 0.0214 - accuracy: 0.2332 - val_loss: 0.0229 - val_accuracy: 0.1420\n",
      "Epoch 87/100\n",
      "35/35 [==============================] - 0s 14ms/step - loss: 0.0213 - accuracy: 0.2250 - val_loss: 0.0230 - val_accuracy: 0.1480\n",
      "Epoch 88/100\n",
      "35/35 [==============================] - 0s 8ms/step - loss: 0.0214 - accuracy: 0.2158 - val_loss: 0.0228 - val_accuracy: 0.1692\n",
      "Epoch 89/100\n",
      "35/35 [==============================] - 0s 8ms/step - loss: 0.0214 - accuracy: 0.2186 - val_loss: 0.0234 - val_accuracy: 0.1329\n",
      "Epoch 90/100\n",
      "35/35 [==============================] - 0s 7ms/step - loss: 0.0213 - accuracy: 0.2213 - val_loss: 0.0226 - val_accuracy: 0.1541\n",
      "Epoch 91/100\n",
      "35/35 [==============================] - 0s 7ms/step - loss: 0.0212 - accuracy: 0.2222 - val_loss: 0.0227 - val_accuracy: 0.1329\n",
      "Epoch 92/100\n",
      "35/35 [==============================] - 0s 7ms/step - loss: 0.0212 - accuracy: 0.2140 - val_loss: 0.0228 - val_accuracy: 0.1329\n",
      "Epoch 93/100\n",
      "35/35 [==============================] - 0s 7ms/step - loss: 0.0213 - accuracy: 0.2286 - val_loss: 0.0229 - val_accuracy: 0.1480\n",
      "Epoch 94/100\n",
      "35/35 [==============================] - 0s 12ms/step - loss: 0.0211 - accuracy: 0.2350 - val_loss: 0.0240 - val_accuracy: 0.1299\n",
      "Epoch 95/100\n",
      "35/35 [==============================] - 1s 15ms/step - loss: 0.0211 - accuracy: 0.2268 - val_loss: 0.0228 - val_accuracy: 0.1299\n",
      "Epoch 96/100\n",
      "35/35 [==============================] - 1s 15ms/step - loss: 0.0212 - accuracy: 0.2341 - val_loss: 0.0235 - val_accuracy: 0.1360\n",
      "Epoch 97/100\n",
      "35/35 [==============================] - 0s 8ms/step - loss: 0.0214 - accuracy: 0.2268 - val_loss: 0.0230 - val_accuracy: 0.1269\n",
      "Epoch 98/100\n",
      "35/35 [==============================] - 0s 7ms/step - loss: 0.0210 - accuracy: 0.2277 - val_loss: 0.0230 - val_accuracy: 0.1420\n",
      "Epoch 99/100\n",
      "35/35 [==============================] - 0s 7ms/step - loss: 0.0211 - accuracy: 0.2404 - val_loss: 0.0230 - val_accuracy: 0.1299\n",
      "Epoch 100/100\n",
      "35/35 [==============================] - 0s 7ms/step - loss: 0.0213 - accuracy: 0.2213 - val_loss: 0.0234 - val_accuracy: 0.1631\n"
     ]
    }
   ],
   "source": [
    "history = model.fit(X_train, y_train, epochs = 100,validation_data=(X_test,y_test))"
   ]
  },
  {
   "cell_type": "markdown",
   "id": "4cf3bcf5",
   "metadata": {},
   "source": [
    "# Test the Model"
   ]
  },
  {
   "cell_type": "code",
   "execution_count": 301,
   "id": "62db2a0f",
   "metadata": {},
   "outputs": [],
   "source": [
    "y_pred = model.predict(X_test)"
   ]
  },
  {
   "cell_type": "code",
   "execution_count": 302,
   "id": "da0cc40c",
   "metadata": {},
   "outputs": [
    {
     "data": {
      "image/png": "[encoded data removed]",
      "text/plain": [
       "<Figure size 432x288 with 1 Axes>"
      ]
     },
     "metadata": {
      "needs_background": "light"
     },
     "output_type": "display_data"
    }
   ],
   "source": [
    "plt.plot(history.history['loss'])\n",
    "plt.show()"
   ]
  },
  {
   "cell_type": "code",
   "execution_count": 303,
   "id": "44e5917d",
   "metadata": {},
   "outputs": [
    {
     "data": {
      "image/png": "[encoded data removed]",
      "text/plain": [
       "<Figure size 1080x720 with 1 Axes>"
      ]
     },
     "metadata": {
      "needs_background": "light"
     },
     "output_type": "display_data"
    }
   ],
   "source": [
    "f = plt.figure()\n",
    "f.set_figwidth(15)\n",
    "f.set_figheight(10)\n",
    "plt.scatter(range(y_pred.size),y_pred,c='r')\n",
    "plt.scatter(range(y_test.size),y_test,c='g')\n",
    "plt.show()"
   ]
  },
  {
   "cell_type": "code",
   "execution_count": 304,
   "id": "a93f04e8",
   "metadata": {},
   "outputs": [],
   "source": [
    "#convert y_pred values to their original forms \n",
    "\n",
    "y_pred = y_scaler.inverse_transform(y_pred)"
   ]
  },
  {
   "cell_type": "code",
   "execution_count": 305,
   "id": "59011ce7",
   "metadata": {},
   "outputs": [
    {
     "data": {
      "text/plain": [
       "array([[1413.9628 , 1600.3695 , 1618.8322 , ..., 1631.2054 , 1548.0544 ,\n",
       "        1502.0656 ],\n",
       "       [1068.7625 , 1458.2485 , 1602.7886 , ..., 1608.5605 , 1561.2245 ,\n",
       "        1485.176  ],\n",
       "       [1496.2261 , 1658.7568 , 1596.2291 , ..., 1623.2446 , 1484.3711 ,\n",
       "        1454.8467 ],\n",
       "       ...,\n",
       "       [1458.8336 , 1711.7086 , 1476.8397 , ..., 2268.8037 , 1224.7272 ,\n",
       "        1236.5222 ],\n",
       "       [1686.7045 , 1618.6646 , 1677.0914 , ..., 1836.69   ,  837.47406,\n",
       "         923.182  ],\n",
       "       [1084.6776 , 1130.3785 , 1552.0925 , ...,  893.45685,  633.66736,\n",
       "         805.00226]], dtype=float32)"
      ]
     },
     "execution_count": 305,
     "metadata": {},
     "output_type": "execute_result"
    }
   ],
   "source": [
    "y_pred"
   ]
  },
  {
   "cell_type": "code",
   "execution_count": 306,
   "id": "e52a597d",
   "metadata": {},
   "outputs": [],
   "source": [
    "y_true = y_scaler.inverse_transform(y_test)"
   ]
  },
  {
   "cell_type": "code",
   "execution_count": 307,
   "id": "be36dec6",
   "metadata": {},
   "outputs": [
    {
     "data": {
      "text/plain": [
       "array([[ 555.664, 1593.318, 1504.82 , ...,    0.   , 1995.796, 2116.224],\n",
       "       [1593.318, 1504.82 , 1383.18 , ..., 1995.796, 2116.224, 2196.76 ],\n",
       "       [1504.82 , 1383.18 ,    0.   , ..., 2116.224, 2196.76 , 2150.112],\n",
       "       ...,\n",
       "       [1892.998, 1645.424, 1439.426, ..., 1973.382, 1109.574,  529.698],\n",
       "       [1645.424, 1439.426, 2035.418, ..., 1109.574,  529.698, 1612.092],\n",
       "       [1439.426, 2035.418, 1973.382, ...,  529.698, 1612.092, 1579.692]])"
      ]
     },
     "execution_count": 307,
     "metadata": {},
     "output_type": "execute_result"
    }
   ],
   "source": [
    "y_true"
   ]
  },
  {
   "cell_type": "markdown",
   "id": "32312650",
   "metadata": {},
   "source": [
    "# Evaluate the Model"
   ]
  },
  {
   "cell_type": "code",
   "execution_count": 308,
   "id": "f8db63f5",
   "metadata": {},
   "outputs": [],
   "source": [
    "def evaluate_model(y_true, y_predicted):\n",
    "    scores = []\n",
    "    \n",
    "    #calculate scores for each day\n",
    "    for i in range(y_true.shape[1]):\n",
    "        mse = mean_squared_error(y_true[:, i], y_predicted[:, i])\n",
    "        rmse = np.sqrt(mse)\n",
    "        scores.append(rmse)\n",
    "    \n",
    "    #calculate score for whole prediction\n",
    "    total_score = 0\n",
    "    for row in range(y_true.shape[0]):\n",
    "        for col in range(y_predicted.shape[1]):\n",
    "            total_score = total_score + (y_true[row, col] - y_predicted[row, col])**2\n",
    "    total_score = np.sqrt(total_score/(y_true.shape[0]*y_predicted.shape[1]))\n",
    "    \n",
    "    return total_score, scores\n",
    "\n",
    "#mean squared error is used as the performance metrics"
   ]
  },
  {
   "cell_type": "code",
   "execution_count": 309,
   "id": "fef788e4",
   "metadata": {},
   "outputs": [
    {
     "data": {
      "text/plain": [
       "(590.3042141914358,\n",
       " [563.1023813290266,\n",
       "  589.601227773674,\n",
       "  589.9955466914901,\n",
       "  610.0571140568534,\n",
       "  608.7696848054018,\n",
       "  593.3378816345044,\n",
       "  575.8339682120007])"
      ]
     },
     "execution_count": 309,
     "metadata": {},
     "output_type": "execute_result"
    }
   ],
   "source": [
    "evaluate_model(y_true, y_pred)"
   ]
  },
  {
   "cell_type": "code",
   "execution_count": 310,
   "id": "5c55cbc1",
   "metadata": {},
   "outputs": [
    {
     "data": {
      "text/plain": [
       "710.0253857243847"
      ]
     },
     "execution_count": 310,
     "metadata": {},
     "output_type": "execute_result"
    }
   ],
   "source": [
    "#standard deviation\n",
    "\n",
    "np.std(y_true[0])"
   ]
  },
  {
   "cell_type": "markdown",
   "id": "6058778a",
   "metadata": {},
   "source": [
    "Mean squared error is around 563 watts. Standard deviation is 710 watts for this model.\n",
    "\n",
    "This LSTM model is performing good as the mean squared error is less than standard deviation."
   ]
  }
 ],
 "metadata": {
  "kernelspec": {
   "display_name": "Python 3 (ipykernel)",
   "language": "python",
   "name": "python3"
  },
  "language_info": {
   "codemirror_mode": {
    "name": "ipython",
    "version": 3
   },
   "file_extension": ".py",
   "mimetype": "text/x-python",
   "name": "python",
   "nbconvert_exporter": "python",
   "pygments_lexer": "ipython3",
   "version": "3.9.12"
  }
 },
 "nbformat": 4,
 "nbformat_minor": 5
}
