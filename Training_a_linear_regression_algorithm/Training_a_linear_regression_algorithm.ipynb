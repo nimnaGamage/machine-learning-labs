{
 "cells": [
  {
   "cell_type": "markdown",
   "id": "c6d46fb8",
   "metadata": {},
   "source": [
    "# Assignment 01"
   ]
  },
  {
   "cell_type": "markdown",
   "id": "d298ba45",
   "metadata": {},
   "source": [
    "Name : Nimna Alupotha Gamage (NIMNA A. G. T.) - Index No.: s14682 - Reg. No. : 2019s17241 - Faculty : Science"
   ]
  },
  {
   "cell_type": "markdown",
   "id": "ecaf8c19",
   "metadata": {},
   "source": [
    "# Import Libraries"
   ]
  },
  {
   "cell_type": "code",
   "execution_count": 1,
   "id": "66c5acb4",
   "metadata": {},
   "outputs": [],
   "source": [
    "import matplotlib.pyplot as plt\n",
    "import numpy as np\n",
    "import pandas as pd\n",
    "import seaborn as sns"
   ]
  },
  {
   "cell_type": "markdown",
   "id": "7da1b356",
   "metadata": {},
   "source": [
    "# Import Tensorflow and Keras"
   ]
  },
  {
   "cell_type": "code",
   "execution_count": 3,
   "id": "2e93d98f",
   "metadata": {},
   "outputs": [],
   "source": [
    "import tensorflow as tf\n",
    "from tensorflow import keras\n",
    "from tensorflow.keras import layers\n",
    "from tensorflow.keras.layers.experimental import preprocessing"
   ]
  },
  {
   "cell_type": "markdown",
   "id": "e15212b6",
   "metadata": {},
   "source": [
    "# Import Dataset"
   ]
  },
  {
   "cell_type": "code",
   "execution_count": 4,
   "id": "1ed2974b",
   "metadata": {},
   "outputs": [],
   "source": [
    "dataset = pd.read_csv('/Users/User/CS 3120/Medicalpremium.csv')"
   ]
  },
  {
   "cell_type": "code",
   "execution_count": 5,
   "id": "d0b35c7c",
   "metadata": {},
   "outputs": [
    {
     "data": {
      "text/html": [
       "<div>\n",
       "<style scoped>\n",
       "    .dataframe tbody tr th:only-of-type {\n",
       "        vertical-align: middle;\n",
       "    }\n",
       "\n",
       "    .dataframe tbody tr th {\n",
       "        vertical-align: top;\n",
       "    }\n",
       "\n",
       "    .dataframe thead th {\n",
       "        text-align: right;\n",
       "    }\n",
       "</style>\n",
       "<table border=\"1\" class=\"dataframe\">\n",
       "  <thead>\n",
       "    <tr style=\"text-align: right;\">\n",
       "      <th></th>\n",
       "      <th>Age</th>\n",
       "      <th>Diabetes</th>\n",
       "      <th>BloodPressureProblems</th>\n",
       "      <th>AnyTransplants</th>\n",
       "      <th>AnyChronicDiseases</th>\n",
       "      <th>Height</th>\n",
       "      <th>Weight</th>\n",
       "      <th>KnownAllergies</th>\n",
       "      <th>HistoryOfCancerInFamily</th>\n",
       "      <th>NumberOfMajorSurgeries</th>\n",
       "      <th>PremiumPrice</th>\n",
       "    </tr>\n",
       "  </thead>\n",
       "  <tbody>\n",
       "    <tr>\n",
       "      <th>0</th>\n",
       "      <td>45</td>\n",
       "      <td>0</td>\n",
       "      <td>0</td>\n",
       "      <td>0</td>\n",
       "      <td>0</td>\n",
       "      <td>155</td>\n",
       "      <td>57</td>\n",
       "      <td>0</td>\n",
       "      <td>0</td>\n",
       "      <td>0</td>\n",
       "      <td>25000</td>\n",
       "    </tr>\n",
       "    <tr>\n",
       "      <th>1</th>\n",
       "      <td>60</td>\n",
       "      <td>1</td>\n",
       "      <td>0</td>\n",
       "      <td>0</td>\n",
       "      <td>0</td>\n",
       "      <td>180</td>\n",
       "      <td>73</td>\n",
       "      <td>0</td>\n",
       "      <td>0</td>\n",
       "      <td>0</td>\n",
       "      <td>29000</td>\n",
       "    </tr>\n",
       "    <tr>\n",
       "      <th>2</th>\n",
       "      <td>36</td>\n",
       "      <td>1</td>\n",
       "      <td>1</td>\n",
       "      <td>0</td>\n",
       "      <td>0</td>\n",
       "      <td>158</td>\n",
       "      <td>59</td>\n",
       "      <td>0</td>\n",
       "      <td>0</td>\n",
       "      <td>1</td>\n",
       "      <td>23000</td>\n",
       "    </tr>\n",
       "    <tr>\n",
       "      <th>3</th>\n",
       "      <td>52</td>\n",
       "      <td>1</td>\n",
       "      <td>1</td>\n",
       "      <td>0</td>\n",
       "      <td>1</td>\n",
       "      <td>183</td>\n",
       "      <td>93</td>\n",
       "      <td>0</td>\n",
       "      <td>0</td>\n",
       "      <td>2</td>\n",
       "      <td>28000</td>\n",
       "    </tr>\n",
       "    <tr>\n",
       "      <th>4</th>\n",
       "      <td>38</td>\n",
       "      <td>0</td>\n",
       "      <td>0</td>\n",
       "      <td>0</td>\n",
       "      <td>1</td>\n",
       "      <td>166</td>\n",
       "      <td>88</td>\n",
       "      <td>0</td>\n",
       "      <td>0</td>\n",
       "      <td>1</td>\n",
       "      <td>23000</td>\n",
       "    </tr>\n",
       "    <tr>\n",
       "      <th>...</th>\n",
       "      <td>...</td>\n",
       "      <td>...</td>\n",
       "      <td>...</td>\n",
       "      <td>...</td>\n",
       "      <td>...</td>\n",
       "      <td>...</td>\n",
       "      <td>...</td>\n",
       "      <td>...</td>\n",
       "      <td>...</td>\n",
       "      <td>...</td>\n",
       "      <td>...</td>\n",
       "    </tr>\n",
       "    <tr>\n",
       "      <th>981</th>\n",
       "      <td>18</td>\n",
       "      <td>0</td>\n",
       "      <td>0</td>\n",
       "      <td>0</td>\n",
       "      <td>0</td>\n",
       "      <td>169</td>\n",
       "      <td>67</td>\n",
       "      <td>0</td>\n",
       "      <td>0</td>\n",
       "      <td>0</td>\n",
       "      <td>15000</td>\n",
       "    </tr>\n",
       "    <tr>\n",
       "      <th>982</th>\n",
       "      <td>64</td>\n",
       "      <td>1</td>\n",
       "      <td>1</td>\n",
       "      <td>0</td>\n",
       "      <td>0</td>\n",
       "      <td>153</td>\n",
       "      <td>70</td>\n",
       "      <td>0</td>\n",
       "      <td>0</td>\n",
       "      <td>3</td>\n",
       "      <td>28000</td>\n",
       "    </tr>\n",
       "    <tr>\n",
       "      <th>983</th>\n",
       "      <td>56</td>\n",
       "      <td>0</td>\n",
       "      <td>1</td>\n",
       "      <td>0</td>\n",
       "      <td>0</td>\n",
       "      <td>155</td>\n",
       "      <td>71</td>\n",
       "      <td>0</td>\n",
       "      <td>0</td>\n",
       "      <td>1</td>\n",
       "      <td>29000</td>\n",
       "    </tr>\n",
       "    <tr>\n",
       "      <th>984</th>\n",
       "      <td>47</td>\n",
       "      <td>1</td>\n",
       "      <td>1</td>\n",
       "      <td>0</td>\n",
       "      <td>0</td>\n",
       "      <td>158</td>\n",
       "      <td>73</td>\n",
       "      <td>1</td>\n",
       "      <td>0</td>\n",
       "      <td>1</td>\n",
       "      <td>39000</td>\n",
       "    </tr>\n",
       "    <tr>\n",
       "      <th>985</th>\n",
       "      <td>21</td>\n",
       "      <td>0</td>\n",
       "      <td>0</td>\n",
       "      <td>0</td>\n",
       "      <td>0</td>\n",
       "      <td>158</td>\n",
       "      <td>75</td>\n",
       "      <td>1</td>\n",
       "      <td>0</td>\n",
       "      <td>1</td>\n",
       "      <td>15000</td>\n",
       "    </tr>\n",
       "  </tbody>\n",
       "</table>\n",
       "<p>986 rows × 11 columns</p>\n",
       "</div>"
      ],
      "text/plain": [
       "     Age  Diabetes  BloodPressureProblems  AnyTransplants  AnyChronicDiseases  \\\n",
       "0     45         0                      0               0                   0   \n",
       "1     60         1                      0               0                   0   \n",
       "2     36         1                      1               0                   0   \n",
       "3     52         1                      1               0                   1   \n",
       "4     38         0                      0               0                   1   \n",
       "..   ...       ...                    ...             ...                 ...   \n",
       "981   18         0                      0               0                   0   \n",
       "982   64         1                      1               0                   0   \n",
       "983   56         0                      1               0                   0   \n",
       "984   47         1                      1               0                   0   \n",
       "985   21         0                      0               0                   0   \n",
       "\n",
       "     Height  Weight  KnownAllergies  HistoryOfCancerInFamily  \\\n",
       "0       155      57               0                        0   \n",
       "1       180      73               0                        0   \n",
       "2       158      59               0                        0   \n",
       "3       183      93               0                        0   \n",
       "4       166      88               0                        0   \n",
       "..      ...     ...             ...                      ...   \n",
       "981     169      67               0                        0   \n",
       "982     153      70               0                        0   \n",
       "983     155      71               0                        0   \n",
       "984     158      73               1                        0   \n",
       "985     158      75               1                        0   \n",
       "\n",
       "     NumberOfMajorSurgeries  PremiumPrice  \n",
       "0                         0         25000  \n",
       "1                         0         29000  \n",
       "2                         1         23000  \n",
       "3                         2         28000  \n",
       "4                         1         23000  \n",
       "..                      ...           ...  \n",
       "981                       0         15000  \n",
       "982                       3         28000  \n",
       "983                       1         29000  \n",
       "984                       1         39000  \n",
       "985                       1         15000  \n",
       "\n",
       "[986 rows x 11 columns]"
      ]
     },
     "execution_count": 5,
     "metadata": {},
     "output_type": "execute_result"
    }
   ],
   "source": [
    "dataset"
   ]
  },
  {
   "cell_type": "markdown",
   "id": "a0a4bc4b",
   "metadata": {},
   "source": [
    "# Data Cleaning"
   ]
  },
  {
   "cell_type": "code",
   "execution_count": 6,
   "id": "c89a3efb",
   "metadata": {},
   "outputs": [
    {
     "data": {
      "text/plain": [
       "Age                        0\n",
       "Diabetes                   0\n",
       "BloodPressureProblems      0\n",
       "AnyTransplants             0\n",
       "AnyChronicDiseases         0\n",
       "Height                     0\n",
       "Weight                     0\n",
       "KnownAllergies             0\n",
       "HistoryOfCancerInFamily    0\n",
       "NumberOfMajorSurgeries     0\n",
       "PremiumPrice               0\n",
       "dtype: int64"
      ]
     },
     "execution_count": 6,
     "metadata": {},
     "output_type": "execute_result"
    }
   ],
   "source": [
    "#One of the pre-processing techniques is cleaning the dataset to remove unknown values\n",
    "\n",
    "#Check whether the unknown values are present in the dataset\n",
    "dataset.isna().sum()"
   ]
  },
  {
   "cell_type": "code",
   "execution_count": 7,
   "id": "fcd8f7ad",
   "metadata": {},
   "outputs": [
    {
     "data": {
      "text/html": [
       "<div>\n",
       "<style scoped>\n",
       "    .dataframe tbody tr th:only-of-type {\n",
       "        vertical-align: middle;\n",
       "    }\n",
       "\n",
       "    .dataframe tbody tr th {\n",
       "        vertical-align: top;\n",
       "    }\n",
       "\n",
       "    .dataframe thead th {\n",
       "        text-align: right;\n",
       "    }\n",
       "</style>\n",
       "<table border=\"1\" class=\"dataframe\">\n",
       "  <thead>\n",
       "    <tr style=\"text-align: right;\">\n",
       "      <th></th>\n",
       "      <th>Age</th>\n",
       "      <th>Diabetes</th>\n",
       "      <th>BloodPressureProblems</th>\n",
       "      <th>AnyTransplants</th>\n",
       "      <th>AnyChronicDiseases</th>\n",
       "      <th>Height</th>\n",
       "      <th>Weight</th>\n",
       "      <th>KnownAllergies</th>\n",
       "      <th>HistoryOfCancerInFamily</th>\n",
       "      <th>NumberOfMajorSurgeries</th>\n",
       "      <th>PremiumPrice</th>\n",
       "    </tr>\n",
       "  </thead>\n",
       "  <tbody>\n",
       "    <tr>\n",
       "      <th>0</th>\n",
       "      <td>45</td>\n",
       "      <td>0</td>\n",
       "      <td>0</td>\n",
       "      <td>0</td>\n",
       "      <td>0</td>\n",
       "      <td>155</td>\n",
       "      <td>57</td>\n",
       "      <td>0</td>\n",
       "      <td>0</td>\n",
       "      <td>0</td>\n",
       "      <td>25000</td>\n",
       "    </tr>\n",
       "    <tr>\n",
       "      <th>1</th>\n",
       "      <td>60</td>\n",
       "      <td>1</td>\n",
       "      <td>0</td>\n",
       "      <td>0</td>\n",
       "      <td>0</td>\n",
       "      <td>180</td>\n",
       "      <td>73</td>\n",
       "      <td>0</td>\n",
       "      <td>0</td>\n",
       "      <td>0</td>\n",
       "      <td>29000</td>\n",
       "    </tr>\n",
       "    <tr>\n",
       "      <th>2</th>\n",
       "      <td>36</td>\n",
       "      <td>1</td>\n",
       "      <td>1</td>\n",
       "      <td>0</td>\n",
       "      <td>0</td>\n",
       "      <td>158</td>\n",
       "      <td>59</td>\n",
       "      <td>0</td>\n",
       "      <td>0</td>\n",
       "      <td>1</td>\n",
       "      <td>23000</td>\n",
       "    </tr>\n",
       "    <tr>\n",
       "      <th>3</th>\n",
       "      <td>52</td>\n",
       "      <td>1</td>\n",
       "      <td>1</td>\n",
       "      <td>0</td>\n",
       "      <td>1</td>\n",
       "      <td>183</td>\n",
       "      <td>93</td>\n",
       "      <td>0</td>\n",
       "      <td>0</td>\n",
       "      <td>2</td>\n",
       "      <td>28000</td>\n",
       "    </tr>\n",
       "    <tr>\n",
       "      <th>4</th>\n",
       "      <td>38</td>\n",
       "      <td>0</td>\n",
       "      <td>0</td>\n",
       "      <td>0</td>\n",
       "      <td>1</td>\n",
       "      <td>166</td>\n",
       "      <td>88</td>\n",
       "      <td>0</td>\n",
       "      <td>0</td>\n",
       "      <td>1</td>\n",
       "      <td>23000</td>\n",
       "    </tr>\n",
       "    <tr>\n",
       "      <th>...</th>\n",
       "      <td>...</td>\n",
       "      <td>...</td>\n",
       "      <td>...</td>\n",
       "      <td>...</td>\n",
       "      <td>...</td>\n",
       "      <td>...</td>\n",
       "      <td>...</td>\n",
       "      <td>...</td>\n",
       "      <td>...</td>\n",
       "      <td>...</td>\n",
       "      <td>...</td>\n",
       "    </tr>\n",
       "    <tr>\n",
       "      <th>981</th>\n",
       "      <td>18</td>\n",
       "      <td>0</td>\n",
       "      <td>0</td>\n",
       "      <td>0</td>\n",
       "      <td>0</td>\n",
       "      <td>169</td>\n",
       "      <td>67</td>\n",
       "      <td>0</td>\n",
       "      <td>0</td>\n",
       "      <td>0</td>\n",
       "      <td>15000</td>\n",
       "    </tr>\n",
       "    <tr>\n",
       "      <th>982</th>\n",
       "      <td>64</td>\n",
       "      <td>1</td>\n",
       "      <td>1</td>\n",
       "      <td>0</td>\n",
       "      <td>0</td>\n",
       "      <td>153</td>\n",
       "      <td>70</td>\n",
       "      <td>0</td>\n",
       "      <td>0</td>\n",
       "      <td>3</td>\n",
       "      <td>28000</td>\n",
       "    </tr>\n",
       "    <tr>\n",
       "      <th>983</th>\n",
       "      <td>56</td>\n",
       "      <td>0</td>\n",
       "      <td>1</td>\n",
       "      <td>0</td>\n",
       "      <td>0</td>\n",
       "      <td>155</td>\n",
       "      <td>71</td>\n",
       "      <td>0</td>\n",
       "      <td>0</td>\n",
       "      <td>1</td>\n",
       "      <td>29000</td>\n",
       "    </tr>\n",
       "    <tr>\n",
       "      <th>984</th>\n",
       "      <td>47</td>\n",
       "      <td>1</td>\n",
       "      <td>1</td>\n",
       "      <td>0</td>\n",
       "      <td>0</td>\n",
       "      <td>158</td>\n",
       "      <td>73</td>\n",
       "      <td>1</td>\n",
       "      <td>0</td>\n",
       "      <td>1</td>\n",
       "      <td>39000</td>\n",
       "    </tr>\n",
       "    <tr>\n",
       "      <th>985</th>\n",
       "      <td>21</td>\n",
       "      <td>0</td>\n",
       "      <td>0</td>\n",
       "      <td>0</td>\n",
       "      <td>0</td>\n",
       "      <td>158</td>\n",
       "      <td>75</td>\n",
       "      <td>1</td>\n",
       "      <td>0</td>\n",
       "      <td>1</td>\n",
       "      <td>15000</td>\n",
       "    </tr>\n",
       "  </tbody>\n",
       "</table>\n",
       "<p>986 rows × 11 columns</p>\n",
       "</div>"
      ],
      "text/plain": [
       "     Age  Diabetes  BloodPressureProblems  AnyTransplants  AnyChronicDiseases  \\\n",
       "0     45         0                      0               0                   0   \n",
       "1     60         1                      0               0                   0   \n",
       "2     36         1                      1               0                   0   \n",
       "3     52         1                      1               0                   1   \n",
       "4     38         0                      0               0                   1   \n",
       "..   ...       ...                    ...             ...                 ...   \n",
       "981   18         0                      0               0                   0   \n",
       "982   64         1                      1               0                   0   \n",
       "983   56         0                      1               0                   0   \n",
       "984   47         1                      1               0                   0   \n",
       "985   21         0                      0               0                   0   \n",
       "\n",
       "     Height  Weight  KnownAllergies  HistoryOfCancerInFamily  \\\n",
       "0       155      57               0                        0   \n",
       "1       180      73               0                        0   \n",
       "2       158      59               0                        0   \n",
       "3       183      93               0                        0   \n",
       "4       166      88               0                        0   \n",
       "..      ...     ...             ...                      ...   \n",
       "981     169      67               0                        0   \n",
       "982     153      70               0                        0   \n",
       "983     155      71               0                        0   \n",
       "984     158      73               1                        0   \n",
       "985     158      75               1                        0   \n",
       "\n",
       "     NumberOfMajorSurgeries  PremiumPrice  \n",
       "0                         0         25000  \n",
       "1                         0         29000  \n",
       "2                         1         23000  \n",
       "3                         2         28000  \n",
       "4                         1         23000  \n",
       "..                      ...           ...  \n",
       "981                       0         15000  \n",
       "982                       3         28000  \n",
       "983                       1         29000  \n",
       "984                       1         39000  \n",
       "985                       1         15000  \n",
       "\n",
       "[986 rows x 11 columns]"
      ]
     },
     "execution_count": 7,
     "metadata": {},
     "output_type": "execute_result"
    }
   ],
   "source": [
    "#No unknown values in the dataset\n",
    "\n",
    "#if unknown values are detected those unknown values can be dropped by using below code segments\n",
    "dataset = dataset.dropna()\n",
    "dataset"
   ]
  },
  {
   "cell_type": "markdown",
   "id": "ecad5c95",
   "metadata": {},
   "source": [
    "Same number of rows and columns can be seen in the above output as the dataset doesn't contain any unknown values.\n",
    "\n",
    "There is no categorical values in our dataset. If categorical values are present in the dataset, those values should be transformed into original data."
   ]
  },
  {
   "cell_type": "markdown",
   "id": "e83fa334",
   "metadata": {},
   "source": [
    "# Define x and y variables"
   ]
  },
  {
   "cell_type": "code",
   "execution_count": 8,
   "id": "f80d77bf",
   "metadata": {},
   "outputs": [
    {
     "name": "stdout",
     "output_type": "stream",
     "text": [
      "[[45  0  0 ...  0  0  0]\n",
      " [60  1  0 ...  0  0  0]\n",
      " [36  1  1 ...  0  0  1]\n",
      " ...\n",
      " [56  0  1 ...  0  0  1]\n",
      " [47  1  1 ...  1  0  1]\n",
      " [21  0  0 ...  1  0  1]]\n"
     ]
    }
   ],
   "source": [
    "x = dataset.drop(['PremiumPrice'], axis = 1).values\n",
    "y = dataset['PremiumPrice'].values\n",
    "print(x)\n",
    "#print(y)"
   ]
  },
  {
   "cell_type": "markdown",
   "id": "875eb6b3",
   "metadata": {},
   "source": [
    "# Split the dataset into a Training Set and a Test Set"
   ]
  },
  {
   "cell_type": "code",
   "execution_count": 9,
   "id": "6ae3028b",
   "metadata": {},
   "outputs": [
    {
     "name": "stdout",
     "output_type": "stream",
     "text": [
      "(986, 11) (690, 11) (296, 11)\n"
     ]
    }
   ],
   "source": [
    "#The training dataset is used to feed/train the model.\n",
    "#The test dataset is used in the final evaluation of the model.\n",
    "\n",
    "training_dataset = dataset.sample(frac=0.7, random_state=0)\n",
    "test_dataset = dataset.drop(training_dataset.index)\n",
    "\n",
    "print(dataset.shape,training_dataset.shape,test_dataset.shape)"
   ]
  },
  {
   "cell_type": "code",
   "execution_count": 10,
   "id": "dedd578e",
   "metadata": {},
   "outputs": [],
   "source": [
    "#If sklearn is used;\n",
    "\n",
    "#from sklearn.model_selection import train_test_split\n",
    "\n",
    "#x_train, x_test, y_train, y_test = train_test_split(x, y, train_size = 0.7, random_state = 0)\n",
    "#print(\"x_train shape: \", x_train.shape)\n",
    "#print(\"x_test shape: \", x_test.shape)\n",
    "#print(\"y_train shape: \", y_train.shape)\n",
    "#print(\"y_test shape: \", y_test.shape)"
   ]
  },
  {
   "cell_type": "code",
   "execution_count": 11,
   "id": "28acfd71",
   "metadata": {},
   "outputs": [
    {
     "data": {
      "text/html": [
       "<div>\n",
       "<style scoped>\n",
       "    .dataframe tbody tr th:only-of-type {\n",
       "        vertical-align: middle;\n",
       "    }\n",
       "\n",
       "    .dataframe tbody tr th {\n",
       "        vertical-align: top;\n",
       "    }\n",
       "\n",
       "    .dataframe thead th {\n",
       "        text-align: right;\n",
       "    }\n",
       "</style>\n",
       "<table border=\"1\" class=\"dataframe\">\n",
       "  <thead>\n",
       "    <tr style=\"text-align: right;\">\n",
       "      <th></th>\n",
       "      <th>count</th>\n",
       "      <th>mean</th>\n",
       "      <th>std</th>\n",
       "      <th>min</th>\n",
       "      <th>25%</th>\n",
       "      <th>50%</th>\n",
       "      <th>75%</th>\n",
       "      <th>max</th>\n",
       "    </tr>\n",
       "  </thead>\n",
       "  <tbody>\n",
       "    <tr>\n",
       "      <th>Age</th>\n",
       "      <td>690.0</td>\n",
       "      <td>41.675362</td>\n",
       "      <td>13.811150</td>\n",
       "      <td>18.0</td>\n",
       "      <td>30.0</td>\n",
       "      <td>42.0</td>\n",
       "      <td>53.0</td>\n",
       "      <td>66.0</td>\n",
       "    </tr>\n",
       "    <tr>\n",
       "      <th>Diabetes</th>\n",
       "      <td>690.0</td>\n",
       "      <td>0.408696</td>\n",
       "      <td>0.491949</td>\n",
       "      <td>0.0</td>\n",
       "      <td>0.0</td>\n",
       "      <td>0.0</td>\n",
       "      <td>1.0</td>\n",
       "      <td>1.0</td>\n",
       "    </tr>\n",
       "    <tr>\n",
       "      <th>BloodPressureProblems</th>\n",
       "      <td>690.0</td>\n",
       "      <td>0.452174</td>\n",
       "      <td>0.498068</td>\n",
       "      <td>0.0</td>\n",
       "      <td>0.0</td>\n",
       "      <td>0.0</td>\n",
       "      <td>1.0</td>\n",
       "      <td>1.0</td>\n",
       "    </tr>\n",
       "    <tr>\n",
       "      <th>AnyTransplants</th>\n",
       "      <td>690.0</td>\n",
       "      <td>0.052174</td>\n",
       "      <td>0.222539</td>\n",
       "      <td>0.0</td>\n",
       "      <td>0.0</td>\n",
       "      <td>0.0</td>\n",
       "      <td>0.0</td>\n",
       "      <td>1.0</td>\n",
       "    </tr>\n",
       "    <tr>\n",
       "      <th>AnyChronicDiseases</th>\n",
       "      <td>690.0</td>\n",
       "      <td>0.194203</td>\n",
       "      <td>0.395873</td>\n",
       "      <td>0.0</td>\n",
       "      <td>0.0</td>\n",
       "      <td>0.0</td>\n",
       "      <td>0.0</td>\n",
       "      <td>1.0</td>\n",
       "    </tr>\n",
       "    <tr>\n",
       "      <th>Height</th>\n",
       "      <td>690.0</td>\n",
       "      <td>168.494203</td>\n",
       "      <td>10.072342</td>\n",
       "      <td>145.0</td>\n",
       "      <td>162.0</td>\n",
       "      <td>169.0</td>\n",
       "      <td>176.0</td>\n",
       "      <td>188.0</td>\n",
       "    </tr>\n",
       "    <tr>\n",
       "      <th>Weight</th>\n",
       "      <td>690.0</td>\n",
       "      <td>76.746377</td>\n",
       "      <td>14.163600</td>\n",
       "      <td>51.0</td>\n",
       "      <td>67.0</td>\n",
       "      <td>75.0</td>\n",
       "      <td>87.0</td>\n",
       "      <td>132.0</td>\n",
       "    </tr>\n",
       "    <tr>\n",
       "      <th>KnownAllergies</th>\n",
       "      <td>690.0</td>\n",
       "      <td>0.208696</td>\n",
       "      <td>0.406671</td>\n",
       "      <td>0.0</td>\n",
       "      <td>0.0</td>\n",
       "      <td>0.0</td>\n",
       "      <td>0.0</td>\n",
       "      <td>1.0</td>\n",
       "    </tr>\n",
       "    <tr>\n",
       "      <th>HistoryOfCancerInFamily</th>\n",
       "      <td>690.0</td>\n",
       "      <td>0.118841</td>\n",
       "      <td>0.323836</td>\n",
       "      <td>0.0</td>\n",
       "      <td>0.0</td>\n",
       "      <td>0.0</td>\n",
       "      <td>0.0</td>\n",
       "      <td>1.0</td>\n",
       "    </tr>\n",
       "    <tr>\n",
       "      <th>NumberOfMajorSurgeries</th>\n",
       "      <td>690.0</td>\n",
       "      <td>0.669565</td>\n",
       "      <td>0.762568</td>\n",
       "      <td>0.0</td>\n",
       "      <td>0.0</td>\n",
       "      <td>1.0</td>\n",
       "      <td>1.0</td>\n",
       "      <td>3.0</td>\n",
       "    </tr>\n",
       "    <tr>\n",
       "      <th>PremiumPrice</th>\n",
       "      <td>690.0</td>\n",
       "      <td>24357.971014</td>\n",
       "      <td>6140.893072</td>\n",
       "      <td>15000.0</td>\n",
       "      <td>22250.0</td>\n",
       "      <td>23000.0</td>\n",
       "      <td>28000.0</td>\n",
       "      <td>40000.0</td>\n",
       "    </tr>\n",
       "  </tbody>\n",
       "</table>\n",
       "</div>"
      ],
      "text/plain": [
       "                         count          mean          std      min      25%  \\\n",
       "Age                      690.0     41.675362    13.811150     18.0     30.0   \n",
       "Diabetes                 690.0      0.408696     0.491949      0.0      0.0   \n",
       "BloodPressureProblems    690.0      0.452174     0.498068      0.0      0.0   \n",
       "AnyTransplants           690.0      0.052174     0.222539      0.0      0.0   \n",
       "AnyChronicDiseases       690.0      0.194203     0.395873      0.0      0.0   \n",
       "Height                   690.0    168.494203    10.072342    145.0    162.0   \n",
       "Weight                   690.0     76.746377    14.163600     51.0     67.0   \n",
       "KnownAllergies           690.0      0.208696     0.406671      0.0      0.0   \n",
       "HistoryOfCancerInFamily  690.0      0.118841     0.323836      0.0      0.0   \n",
       "NumberOfMajorSurgeries   690.0      0.669565     0.762568      0.0      0.0   \n",
       "PremiumPrice             690.0  24357.971014  6140.893072  15000.0  22250.0   \n",
       "\n",
       "                             50%      75%      max  \n",
       "Age                         42.0     53.0     66.0  \n",
       "Diabetes                     0.0      1.0      1.0  \n",
       "BloodPressureProblems        0.0      1.0      1.0  \n",
       "AnyTransplants               0.0      0.0      1.0  \n",
       "AnyChronicDiseases           0.0      0.0      1.0  \n",
       "Height                     169.0    176.0    188.0  \n",
       "Weight                      75.0     87.0    132.0  \n",
       "KnownAllergies               0.0      0.0      1.0  \n",
       "HistoryOfCancerInFamily      0.0      0.0      1.0  \n",
       "NumberOfMajorSurgeries       1.0      1.0      3.0  \n",
       "PremiumPrice             23000.0  28000.0  40000.0  "
      ]
     },
     "execution_count": 11,
     "metadata": {},
     "output_type": "execute_result"
    }
   ],
   "source": [
    "#To get statistical parameters from the dataset\n",
    "training_dataset.describe().transpose()"
   ]
  },
  {
   "cell_type": "markdown",
   "id": "76322c83",
   "metadata": {},
   "source": [
    "# Split features from Labels"
   ]
  },
  {
   "cell_type": "code",
   "execution_count": 12,
   "id": "0a6d3784",
   "metadata": {},
   "outputs": [
    {
     "data": {
      "text/plain": [
       "231    23000\n",
       "688    23000\n",
       "27     28000\n",
       "366    23000\n",
       "715    38000\n",
       "       ...  \n",
       "221    35000\n",
       "915    28000\n",
       "146    23000\n",
       "289    38000\n",
       "29     21000\n",
       "Name: PremiumPrice, Length: 690, dtype: int64"
      ]
     },
     "execution_count": 12,
     "metadata": {},
     "output_type": "execute_result"
    }
   ],
   "source": [
    "training_features = training_dataset.copy()\n",
    "testing_features = test_dataset.copy()\n",
    "\n",
    "train_labels = training_features.pop(\"PremiumPrice\")\n",
    "test_labels = testing_features.pop(\"PremiumPrice\")\n",
    "\n",
    "train_labels"
   ]
  },
  {
   "cell_type": "markdown",
   "id": "ff414d44",
   "metadata": {},
   "source": [
    "# Normalization"
   ]
  },
  {
   "cell_type": "markdown",
   "id": "4728252a",
   "metadata": {},
   "source": [
    "The task of normalization is used to convert different scale values to same scale values."
   ]
  },
  {
   "cell_type": "code",
   "execution_count": 13,
   "id": "056a97a4",
   "metadata": {},
   "outputs": [
    {
     "data": {
      "text/html": [
       "<div>\n",
       "<style scoped>\n",
       "    .dataframe tbody tr th:only-of-type {\n",
       "        vertical-align: middle;\n",
       "    }\n",
       "\n",
       "    .dataframe tbody tr th {\n",
       "        vertical-align: top;\n",
       "    }\n",
       "\n",
       "    .dataframe thead th {\n",
       "        text-align: right;\n",
       "    }\n",
       "</style>\n",
       "<table border=\"1\" class=\"dataframe\">\n",
       "  <thead>\n",
       "    <tr style=\"text-align: right;\">\n",
       "      <th></th>\n",
       "      <th>mean</th>\n",
       "      <th>std</th>\n",
       "    </tr>\n",
       "  </thead>\n",
       "  <tbody>\n",
       "    <tr>\n",
       "      <th>Age</th>\n",
       "      <td>41.675362</td>\n",
       "      <td>13.811150</td>\n",
       "    </tr>\n",
       "    <tr>\n",
       "      <th>Diabetes</th>\n",
       "      <td>0.408696</td>\n",
       "      <td>0.491949</td>\n",
       "    </tr>\n",
       "    <tr>\n",
       "      <th>BloodPressureProblems</th>\n",
       "      <td>0.452174</td>\n",
       "      <td>0.498068</td>\n",
       "    </tr>\n",
       "    <tr>\n",
       "      <th>AnyTransplants</th>\n",
       "      <td>0.052174</td>\n",
       "      <td>0.222539</td>\n",
       "    </tr>\n",
       "    <tr>\n",
       "      <th>AnyChronicDiseases</th>\n",
       "      <td>0.194203</td>\n",
       "      <td>0.395873</td>\n",
       "    </tr>\n",
       "    <tr>\n",
       "      <th>Height</th>\n",
       "      <td>168.494203</td>\n",
       "      <td>10.072342</td>\n",
       "    </tr>\n",
       "    <tr>\n",
       "      <th>Weight</th>\n",
       "      <td>76.746377</td>\n",
       "      <td>14.163600</td>\n",
       "    </tr>\n",
       "    <tr>\n",
       "      <th>KnownAllergies</th>\n",
       "      <td>0.208696</td>\n",
       "      <td>0.406671</td>\n",
       "    </tr>\n",
       "    <tr>\n",
       "      <th>HistoryOfCancerInFamily</th>\n",
       "      <td>0.118841</td>\n",
       "      <td>0.323836</td>\n",
       "    </tr>\n",
       "    <tr>\n",
       "      <th>NumberOfMajorSurgeries</th>\n",
       "      <td>0.669565</td>\n",
       "      <td>0.762568</td>\n",
       "    </tr>\n",
       "    <tr>\n",
       "      <th>PremiumPrice</th>\n",
       "      <td>24357.971014</td>\n",
       "      <td>6140.893072</td>\n",
       "    </tr>\n",
       "  </tbody>\n",
       "</table>\n",
       "</div>"
      ],
      "text/plain": [
       "                                 mean          std\n",
       "Age                         41.675362    13.811150\n",
       "Diabetes                     0.408696     0.491949\n",
       "BloodPressureProblems        0.452174     0.498068\n",
       "AnyTransplants               0.052174     0.222539\n",
       "AnyChronicDiseases           0.194203     0.395873\n",
       "Height                     168.494203    10.072342\n",
       "Weight                      76.746377    14.163600\n",
       "KnownAllergies               0.208696     0.406671\n",
       "HistoryOfCancerInFamily      0.118841     0.323836\n",
       "NumberOfMajorSurgeries       0.669565     0.762568\n",
       "PremiumPrice             24357.971014  6140.893072"
      ]
     },
     "execution_count": 13,
     "metadata": {},
     "output_type": "execute_result"
    }
   ],
   "source": [
    "training_dataset.describe().transpose()[['mean', 'std']]"
   ]
  },
  {
   "cell_type": "code",
   "execution_count": 14,
   "id": "ce7ed0c2",
   "metadata": {},
   "outputs": [
    {
     "name": "stdout",
     "output_type": "stream",
     "text": [
      "[[4.1675362e+01 4.0869564e-01 4.5217389e-01 5.2173916e-02 1.9420289e-01\n",
      "  1.6849423e+02 7.6746361e+01 2.0869565e-01 1.1884058e-01 6.6956526e-01]]\n"
     ]
    }
   ],
   "source": [
    "#Create the normalization layer\n",
    "normalization_layer = tf.keras.layers.Normalization(axis=-1)\n",
    "\n",
    "#Feed the data to the Normalization layer\n",
    "normalization_layer.adapt(np.array(training_features))\n",
    "\n",
    "print(normalization_layer.mean.numpy())"
   ]
  },
  {
   "cell_type": "code",
   "execution_count": 15,
   "id": "c553777f",
   "metadata": {},
   "outputs": [
    {
     "name": "stdout",
     "output_type": "stream",
     "text": [
      "First example: [[ 36   1   0   0   0 180  74   0   0   0]]\n",
      "\n",
      "Normalized: [[-0.41  1.2  -0.91 -0.23 -0.49  1.14 -0.19 -0.51 -0.37 -0.88]]\n"
     ]
    }
   ],
   "source": [
    "first_row = np.array(training_features[:1])\n",
    "\n",
    "with np.printoptions(precision=2, suppress=True):\n",
    " print('First example:', first_row)\n",
    " print()\n",
    " print('Normalized:', normalization_layer(first_row).numpy())"
   ]
  },
  {
   "cell_type": "markdown",
   "id": "9abdef51",
   "metadata": {},
   "source": [
    "# Create the Model"
   ]
  },
  {
   "cell_type": "code",
   "execution_count": 16,
   "id": "3410650c",
   "metadata": {},
   "outputs": [
    {
     "name": "stdout",
     "output_type": "stream",
     "text": [
      "Model: \"sequential\"\n",
      "_________________________________________________________________\n",
      "Layer (type)                 Output Shape              Param #   \n",
      "=================================================================\n",
      "normalization (Normalization (None, 10)                21        \n",
      "_________________________________________________________________\n",
      "dense (Dense)                (None, 1)                 11        \n",
      "=================================================================\n",
      "Total params: 32\n",
      "Trainable params: 11\n",
      "Non-trainable params: 21\n",
      "_________________________________________________________________\n"
     ]
    }
   ],
   "source": [
    "linear_model = tf.keras.Sequential([\n",
    " normalization_layer,\n",
    " layers.Dense(units=1)\n",
    "])\n",
    "\n",
    "linear_model.summary()"
   ]
  },
  {
   "cell_type": "code",
   "execution_count": 17,
   "id": "1cb7706d",
   "metadata": {},
   "outputs": [],
   "source": [
    "#If sklearn is used;\n",
    "\n",
    "#from sklearn.linear_model import LinearRegression\n",
    "\n",
    "#linreg = LinearRegression()\n",
    "#linreg.fit(x_train, y_train)\n",
    "#predicted_value = linreg.predict(x_test)"
   ]
  },
  {
   "cell_type": "code",
   "execution_count": 18,
   "id": "46b70b4f",
   "metadata": {},
   "outputs": [
    {
     "data": {
      "text/plain": [
       "array([[ 1.1091598],\n",
       "       [ 1.6044915],\n",
       "       [-1.9419107],\n",
       "       [-0.2963156],\n",
       "       [ 3.4324474],\n",
       "       [ 0.233035 ],\n",
       "       [ 1.5921698],\n",
       "       [-2.0566518],\n",
       "       [-0.3561666],\n",
       "       [-1.4150133]], dtype=float32)"
      ]
     },
     "execution_count": 18,
     "metadata": {},
     "output_type": "execute_result"
    }
   ],
   "source": [
    "linear_model.predict(training_features[:10])"
   ]
  },
  {
   "cell_type": "code",
   "execution_count": 19,
   "id": "e646b35b",
   "metadata": {},
   "outputs": [
    {
     "data": {
      "text/plain": [
       "<tf.Variable 'dense/kernel:0' shape=(10, 1) dtype=float32, numpy=\n",
       "array([[-0.5566908 ],\n",
       "       [ 0.68173426],\n",
       "       [ 0.48516792],\n",
       "       [ 0.36472887],\n",
       "       [ 0.1020661 ],\n",
       "       [ 0.6730271 ],\n",
       "       [-0.6511448 ],\n",
       "       [-0.32497987],\n",
       "       [ 0.32818288],\n",
       "       [ 0.3475725 ]], dtype=float32)>"
      ]
     },
     "execution_count": 19,
     "metadata": {},
     "output_type": "execute_result"
    }
   ],
   "source": [
    "linear_model.layers[1].kernel"
   ]
  },
  {
   "cell_type": "markdown",
   "id": "5b316a27",
   "metadata": {},
   "source": [
    "# Compile the Model"
   ]
  },
  {
   "cell_type": "code",
   "execution_count": 20,
   "id": "4db8a164",
   "metadata": {},
   "outputs": [],
   "source": [
    "linear_model.compile(\n",
    " optimizer=tf.keras.optimizers.Adam(learning_rate=0.1),\n",
    " loss=\"mean_absolute_error\")"
   ]
  },
  {
   "cell_type": "markdown",
   "id": "fac43848",
   "metadata": {},
   "source": [
    "There are three types of metrics for Regression as 'Mean Squared Error', 'Root Mean Squared Error', and the 'Mean Absolute Error'.\n",
    "\n",
    "The 'Mean Absolute Error' is used as the performance metrics in this model and it is calculated as the average of the absolute error values."
   ]
  },
  {
   "cell_type": "markdown",
   "id": "32519fdc",
   "metadata": {},
   "source": [
    "# Train the Model"
   ]
  },
  {
   "cell_type": "code",
   "execution_count": 48,
   "id": "94494646",
   "metadata": {},
   "outputs": [
    {
     "name": "stdout",
     "output_type": "stream",
     "text": [
      "CPU times: total: 12min 28s\n",
      "Wall time: 10min 41s\n"
     ]
    }
   ],
   "source": [
    "%%time     \n",
    "history = linear_model.fit(\n",
    " training_features,\n",
    " train_labels,\n",
    " epochs=15000,    \n",
    " verbose=0,     \n",
    " validation_split = 0.2)\n",
    "\n",
    "#epochs-Number of iterations\n",
    "#verbose-Logging variable\n",
    "#validation_split-20% of the training data is used to calculate validation results\n",
    "#Above mentioned parameters can be changed. That process is called 'Hyper parameter tuning'"
   ]
  },
  {
   "cell_type": "code",
   "execution_count": 49,
   "id": "6e800b9f",
   "metadata": {},
   "outputs": [
    {
     "data": {
      "text/html": [
       "<div>\n",
       "<style scoped>\n",
       "    .dataframe tbody tr th:only-of-type {\n",
       "        vertical-align: middle;\n",
       "    }\n",
       "\n",
       "    .dataframe tbody tr th {\n",
       "        vertical-align: top;\n",
       "    }\n",
       "\n",
       "    .dataframe thead th {\n",
       "        text-align: right;\n",
       "    }\n",
       "</style>\n",
       "<table border=\"1\" class=\"dataframe\">\n",
       "  <thead>\n",
       "    <tr style=\"text-align: right;\">\n",
       "      <th></th>\n",
       "      <th>loss</th>\n",
       "      <th>val_loss</th>\n",
       "      <th>epoch</th>\n",
       "    </tr>\n",
       "  </thead>\n",
       "  <tbody>\n",
       "    <tr>\n",
       "      <th>14995</th>\n",
       "      <td>2723.897217</td>\n",
       "      <td>2434.625488</td>\n",
       "      <td>14995</td>\n",
       "    </tr>\n",
       "    <tr>\n",
       "      <th>14996</th>\n",
       "      <td>2723.864258</td>\n",
       "      <td>2434.593018</td>\n",
       "      <td>14996</td>\n",
       "    </tr>\n",
       "    <tr>\n",
       "      <th>14997</th>\n",
       "      <td>2723.873535</td>\n",
       "      <td>2434.512451</td>\n",
       "      <td>14997</td>\n",
       "    </tr>\n",
       "    <tr>\n",
       "      <th>14998</th>\n",
       "      <td>2723.893066</td>\n",
       "      <td>2434.463867</td>\n",
       "      <td>14998</td>\n",
       "    </tr>\n",
       "    <tr>\n",
       "      <th>14999</th>\n",
       "      <td>2723.912842</td>\n",
       "      <td>2434.423584</td>\n",
       "      <td>14999</td>\n",
       "    </tr>\n",
       "  </tbody>\n",
       "</table>\n",
       "</div>"
      ],
      "text/plain": [
       "              loss     val_loss  epoch\n",
       "14995  2723.897217  2434.625488  14995\n",
       "14996  2723.864258  2434.593018  14996\n",
       "14997  2723.873535  2434.512451  14997\n",
       "14998  2723.893066  2434.463867  14998\n",
       "14999  2723.912842  2434.423584  14999"
      ]
     },
     "execution_count": 49,
     "metadata": {},
     "output_type": "execute_result"
    }
   ],
   "source": [
    "hist = pd.DataFrame(history.history)\n",
    "hist['epoch'] = history.epoch\n",
    "hist.tail()"
   ]
  },
  {
   "cell_type": "markdown",
   "id": "bb67dfe3",
   "metadata": {},
   "source": [
    "# Plot the Results"
   ]
  },
  {
   "cell_type": "code",
   "execution_count": 50,
   "id": "8d4c89f0",
   "metadata": {},
   "outputs": [],
   "source": [
    "def plot_loss(history):\n",
    " plt.plot(history.history['loss'], label='loss')\n",
    " plt.plot(history.history['val_loss'], label='val_loss')\n",
    " plt.ylim([0, 25000])\n",
    " plt.xlabel('Epoch')\n",
    " plt.ylabel('Error [PremiumPrice]')\n",
    " plt.legend()\n",
    " plt.grid(True)\n",
    " plt.title(\"Error [PremiumPrice] Vs Epoch\")"
   ]
  },
  {
   "cell_type": "code",
   "execution_count": 51,
   "id": "99092dbf",
   "metadata": {},
   "outputs": [
    {
     "data": {
      "image/png": "[encoded data removed]",
      "text/plain": [
       "<Figure size 432x288 with 1 Axes>"
      ]
     },
     "metadata": {
      "needs_background": "light"
     },
     "output_type": "display_data"
    }
   ],
   "source": [
    "plot_loss(history)"
   ]
  },
  {
   "cell_type": "markdown",
   "id": "adcde6be",
   "metadata": {},
   "source": [
    "In generally, a model that trained with low number of epochs performs worse than a model trained with high number of epochs as the same data is used for validation.\n",
    "\n",
    "In a good plot:\n",
    "\n",
    "-The plot of training loss(loss) decreases to a point of stability.\n",
    "\n",
    "-The plot of validation loss(val_loss) decreases to a point of stability and has a small gap with the training loss."
   ]
  },
  {
   "cell_type": "markdown",
   "id": "a2cfc893",
   "metadata": {},
   "source": [
    "# Evaluate the Model"
   ]
  },
  {
   "cell_type": "code",
   "execution_count": 52,
   "id": "a468b8e3",
   "metadata": {},
   "outputs": [
    {
     "name": "stdout",
     "output_type": "stream",
     "text": [
      "2631.571533203125\n"
     ]
    }
   ],
   "source": [
    "test_results = {}\n",
    "\n",
    "test_results['linear_model'] = linear_model.evaluate(\n",
    " testing_features, test_labels, verbose=0)\n",
    "\n",
    "print(test_results['linear_model'])\n",
    "#output shows the error value\n",
    "#The error value will be decreased by increasing the epochs value"
   ]
  },
  {
   "cell_type": "code",
   "execution_count": 53,
   "id": "08541a58",
   "metadata": {},
   "outputs": [
    {
     "data": {
      "text/html": [
       "<div>\n",
       "<style scoped>\n",
       "    .dataframe tbody tr th:only-of-type {\n",
       "        vertical-align: middle;\n",
       "    }\n",
       "\n",
       "    .dataframe tbody tr th {\n",
       "        vertical-align: top;\n",
       "    }\n",
       "\n",
       "    .dataframe thead th {\n",
       "        text-align: right;\n",
       "    }\n",
       "</style>\n",
       "<table border=\"1\" class=\"dataframe\">\n",
       "  <thead>\n",
       "    <tr style=\"text-align: right;\">\n",
       "      <th></th>\n",
       "      <th>linear_model</th>\n",
       "    </tr>\n",
       "  </thead>\n",
       "  <tbody>\n",
       "    <tr>\n",
       "      <th>Mean absolute error[PremiumPrice]</th>\n",
       "      <td>2631.571533</td>\n",
       "    </tr>\n",
       "  </tbody>\n",
       "</table>\n",
       "</div>"
      ],
      "text/plain": [
       "                                   linear_model\n",
       "Mean absolute error[PremiumPrice]   2631.571533"
      ]
     },
     "execution_count": 53,
     "metadata": {},
     "output_type": "execute_result"
    }
   ],
   "source": [
    "pd.DataFrame(test_results, index=['Mean absolute error[PremiumPrice]'])"
   ]
  },
  {
   "cell_type": "code",
   "execution_count": 54,
   "id": "8343a7cc",
   "metadata": {},
   "outputs": [],
   "source": [
    "#if sklearn is used, r2_score can be used to evaluate the model.\n",
    "\n",
    "#from sklearn.metrics import r2_score\n",
    "#r2_score(y_test, pedicted_value)"
   ]
  },
  {
   "cell_type": "markdown",
   "id": "b1a2d5c9",
   "metadata": {},
   "source": [
    "# Make Predictions"
   ]
  },
  {
   "cell_type": "code",
   "execution_count": 55,
   "id": "212e392c",
   "metadata": {},
   "outputs": [
    {
     "data": {
      "image/png": "[encoded data removed]",
      "text/plain": [
       "<Figure size 432x288 with 1 Axes>"
      ]
     },
     "metadata": {
      "needs_background": "light"
     },
     "output_type": "display_data"
    }
   ],
   "source": [
    "#Scattered Plot\n",
    "\n",
    "test_predictions = linear_model.predict(testing_features).flatten()\n",
    "\n",
    "a = plt.axes(aspect='equal')\n",
    "plt.scatter(test_labels, test_predictions)\n",
    "plt.xlabel('Real Values [PremiumPrice]')\n",
    "plt.ylabel('Predicted Values [PremiumPrice]')\n",
    "lims = [0, 55000]\n",
    "plt.xlim(lims)\n",
    "plt.ylim(lims)\n",
    "_ = plt.plot(lims, lims)"
   ]
  },
  {
   "cell_type": "code",
   "execution_count": 56,
   "id": "10becccf",
   "metadata": {},
   "outputs": [
    {
     "data": {
      "text/html": [
       "<div>\n",
       "<style scoped>\n",
       "    .dataframe tbody tr th:only-of-type {\n",
       "        vertical-align: middle;\n",
       "    }\n",
       "\n",
       "    .dataframe tbody tr th {\n",
       "        vertical-align: top;\n",
       "    }\n",
       "\n",
       "    .dataframe thead th {\n",
       "        text-align: right;\n",
       "    }\n",
       "</style>\n",
       "<table border=\"1\" class=\"dataframe\">\n",
       "  <thead>\n",
       "    <tr style=\"text-align: right;\">\n",
       "      <th></th>\n",
       "      <th>Age</th>\n",
       "      <th>Diabetes</th>\n",
       "      <th>BloodPressureProblems</th>\n",
       "      <th>AnyTransplants</th>\n",
       "      <th>AnyChronicDiseases</th>\n",
       "      <th>Height</th>\n",
       "      <th>Weight</th>\n",
       "      <th>KnownAllergies</th>\n",
       "      <th>HistoryOfCancerInFamily</th>\n",
       "      <th>NumberOfMajorSurgeries</th>\n",
       "    </tr>\n",
       "  </thead>\n",
       "  <tbody>\n",
       "    <tr>\n",
       "      <th>0</th>\n",
       "      <td>61</td>\n",
       "      <td>1</td>\n",
       "      <td>1</td>\n",
       "      <td>0</td>\n",
       "      <td>0</td>\n",
       "      <td>168</td>\n",
       "      <td>80</td>\n",
       "      <td>1</td>\n",
       "      <td>0</td>\n",
       "      <td>2</td>\n",
       "    </tr>\n",
       "  </tbody>\n",
       "</table>\n",
       "</div>"
      ],
      "text/plain": [
       "   Age  Diabetes  BloodPressureProblems  AnyTransplants  AnyChronicDiseases  \\\n",
       "0   61         1                      1               0                   0   \n",
       "\n",
       "   Height  Weight  KnownAllergies  HistoryOfCancerInFamily  \\\n",
       "0     168      80               1                        0   \n",
       "\n",
       "   NumberOfMajorSurgeries  \n",
       "0                       2  "
      ]
     },
     "execution_count": 56,
     "metadata": {},
     "output_type": "execute_result"
    }
   ],
   "source": [
    "data = {'Age':61, 'Diabetes':1, 'BloodPressureProblems':1, 'AnyTransplants':0, 'AnyChronicDiseases':0, 'Height':168, \n",
    "        'Weight':80, 'KnownAllergies':1, 'HistoryOfCancerInFamily':0, 'NumberOfMajorSurgeries':2}\n",
    "index = [0]\n",
    "person_data = pd.DataFrame(data, index)\n",
    "person_data"
   ]
  },
  {
   "cell_type": "code",
   "execution_count": 57,
   "id": "ab7989c7",
   "metadata": {},
   "outputs": [
    {
     "name": "stdout",
     "output_type": "stream",
     "text": [
      "The person's health insurance premium price is:  [[28803.824]]\n"
     ]
    }
   ],
   "source": [
    "premiumprice_pred = linear_model.predict(person_data)\n",
    "print(\"The person's health insurance premium price is: \", premiumprice_pred)"
   ]
  },
  {
   "cell_type": "markdown",
   "id": "f68f8b52",
   "metadata": {},
   "source": [
    "The 'Mean Absolute Error' is high in this model.(2631.571533203125)\n",
    "\n",
    "The error can be reduced by training the model with high number of epochs/ iterations."
   ]
  }
 ],
 "metadata": {
  "kernelspec": {
   "display_name": "Python 3 (ipykernel)",
   "language": "python",
   "name": "python3"
  },
  "language_info": {
   "codemirror_mode": {
    "name": "ipython",
    "version": 3
   },
   "file_extension": ".py",
   "mimetype": "text/x-python",
   "name": "python",
   "nbconvert_exporter": "python",
   "pygments_lexer": "ipython3",
   "version": "3.9.12"
  }
 },
 "nbformat": 4,
 "nbformat_minor": 5
}
